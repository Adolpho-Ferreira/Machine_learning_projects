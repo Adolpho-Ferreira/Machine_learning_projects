{
 "cells": [
  {
   "cell_type": "markdown",
   "metadata": {},
   "source": [
    "# Importando Bibliotecas"
   ]
  },
  {
   "cell_type": "code",
   "execution_count": 1,
   "metadata": {},
   "outputs": [],
   "source": [
    "import pandas as pd\n",
    "import numpy as np\n",
    "from matplotlib import pyplot as plt\n",
    "from sklearn.metrics import precision_score\n",
    "%matplotlib inline\n",
    "\n",
    "from sklearn.metrics import precision_recall_fscore_support\n",
    "from sklearn.metrics import accuracy_score\n",
    "from sklearn.metrics import precision_score\n",
    "from sklearn.metrics import recall_score"
   ]
  },
  {
   "cell_type": "markdown",
   "metadata": {},
   "source": [
    "# Ler o arquivo"
   ]
  },
  {
   "cell_type": "code",
   "execution_count": 2,
   "metadata": {},
   "outputs": [],
   "source": [
    "data = pd.read_csv('adult.csv', header= None)"
   ]
  },
  {
   "cell_type": "code",
   "execution_count": 3,
   "metadata": {},
   "outputs": [],
   "source": [
    "data.columns = [\"Age\",\"Workclass\",\"fnlwgt\",\"Education\",\"Education-Num\",\"Marital_Status\",\"Occupation\", \"Relationship\", \"Race\",\"Gender\",\"Capital-Gain\",\"Capital-Loss\",\"Hour_Per_Week\",\"Native\",\"Income\"]"
   ]
  },
  {
   "cell_type": "markdown",
   "metadata": {},
   "source": [
    "# Verificando o arquivo"
   ]
  },
  {
   "cell_type": "code",
   "execution_count": 4,
   "metadata": {},
   "outputs": [
    {
     "data": {
      "text/html": [
       "<div>\n",
       "<style scoped>\n",
       "    .dataframe tbody tr th:only-of-type {\n",
       "        vertical-align: middle;\n",
       "    }\n",
       "\n",
       "    .dataframe tbody tr th {\n",
       "        vertical-align: top;\n",
       "    }\n",
       "\n",
       "    .dataframe thead th {\n",
       "        text-align: right;\n",
       "    }\n",
       "</style>\n",
       "<table border=\"1\" class=\"dataframe\">\n",
       "  <thead>\n",
       "    <tr style=\"text-align: right;\">\n",
       "      <th></th>\n",
       "      <th>Age</th>\n",
       "      <th>Workclass</th>\n",
       "      <th>fnlwgt</th>\n",
       "      <th>Education</th>\n",
       "      <th>Education-Num</th>\n",
       "      <th>Marital_Status</th>\n",
       "      <th>Occupation</th>\n",
       "      <th>Relationship</th>\n",
       "      <th>Race</th>\n",
       "      <th>Gender</th>\n",
       "      <th>Capital-Gain</th>\n",
       "      <th>Capital-Loss</th>\n",
       "      <th>Hour_Per_Week</th>\n",
       "      <th>Native</th>\n",
       "      <th>Income</th>\n",
       "    </tr>\n",
       "  </thead>\n",
       "  <tbody>\n",
       "    <tr>\n",
       "      <th>0</th>\n",
       "      <td>age</td>\n",
       "      <td>workclass</td>\n",
       "      <td>fnlwgt</td>\n",
       "      <td>education</td>\n",
       "      <td>education-num</td>\n",
       "      <td>marital-status</td>\n",
       "      <td>occupation</td>\n",
       "      <td>relationship</td>\n",
       "      <td>race</td>\n",
       "      <td>sex</td>\n",
       "      <td>capitalgain</td>\n",
       "      <td>capitalloss</td>\n",
       "      <td>hoursperweek</td>\n",
       "      <td>native-country</td>\n",
       "      <td>class</td>\n",
       "    </tr>\n",
       "    <tr>\n",
       "      <th>1</th>\n",
       "      <td>2</td>\n",
       "      <td>State-gov</td>\n",
       "      <td>77516</td>\n",
       "      <td>Bachelors</td>\n",
       "      <td>13</td>\n",
       "      <td>Never-married</td>\n",
       "      <td>Adm-clerical</td>\n",
       "      <td>Not-in-family</td>\n",
       "      <td>White</td>\n",
       "      <td>Male</td>\n",
       "      <td>1</td>\n",
       "      <td>0</td>\n",
       "      <td>2</td>\n",
       "      <td>United-States</td>\n",
       "      <td>&lt;=50K</td>\n",
       "    </tr>\n",
       "    <tr>\n",
       "      <th>2</th>\n",
       "      <td>3</td>\n",
       "      <td>Self-emp-not-inc</td>\n",
       "      <td>83311</td>\n",
       "      <td>Bachelors</td>\n",
       "      <td>13</td>\n",
       "      <td>Married-civ-spouse</td>\n",
       "      <td>Exec-managerial</td>\n",
       "      <td>Husband</td>\n",
       "      <td>White</td>\n",
       "      <td>Male</td>\n",
       "      <td>0</td>\n",
       "      <td>0</td>\n",
       "      <td>0</td>\n",
       "      <td>United-States</td>\n",
       "      <td>&lt;=50K</td>\n",
       "    </tr>\n",
       "    <tr>\n",
       "      <th>3</th>\n",
       "      <td>2</td>\n",
       "      <td>Private</td>\n",
       "      <td>215646</td>\n",
       "      <td>HS-grad</td>\n",
       "      <td>9</td>\n",
       "      <td>Divorced</td>\n",
       "      <td>Handlers-cleaners</td>\n",
       "      <td>Not-in-family</td>\n",
       "      <td>White</td>\n",
       "      <td>Male</td>\n",
       "      <td>0</td>\n",
       "      <td>0</td>\n",
       "      <td>2</td>\n",
       "      <td>United-States</td>\n",
       "      <td>&lt;=50K</td>\n",
       "    </tr>\n",
       "    <tr>\n",
       "      <th>4</th>\n",
       "      <td>3</td>\n",
       "      <td>Private</td>\n",
       "      <td>234721</td>\n",
       "      <td>11th</td>\n",
       "      <td>7</td>\n",
       "      <td>Married-civ-spouse</td>\n",
       "      <td>Handlers-cleaners</td>\n",
       "      <td>Husband</td>\n",
       "      <td>Black</td>\n",
       "      <td>Male</td>\n",
       "      <td>0</td>\n",
       "      <td>0</td>\n",
       "      <td>2</td>\n",
       "      <td>United-States</td>\n",
       "      <td>&lt;=50K</td>\n",
       "    </tr>\n",
       "  </tbody>\n",
       "</table>\n",
       "</div>"
      ],
      "text/plain": [
       "   Age         Workclass  fnlwgt  Education  Education-Num  \\\n",
       "0  age         workclass  fnlwgt  education  education-num   \n",
       "1    2         State-gov   77516  Bachelors             13   \n",
       "2    3  Self-emp-not-inc   83311  Bachelors             13   \n",
       "3    2           Private  215646    HS-grad              9   \n",
       "4    3           Private  234721       11th              7   \n",
       "\n",
       "       Marital_Status         Occupation   Relationship   Race Gender  \\\n",
       "0      marital-status         occupation   relationship   race    sex   \n",
       "1       Never-married       Adm-clerical  Not-in-family  White   Male   \n",
       "2  Married-civ-spouse    Exec-managerial        Husband  White   Male   \n",
       "3            Divorced  Handlers-cleaners  Not-in-family  White   Male   \n",
       "4  Married-civ-spouse  Handlers-cleaners        Husband  Black   Male   \n",
       "\n",
       "  Capital-Gain Capital-Loss Hour_Per_Week          Native Income  \n",
       "0  capitalgain  capitalloss  hoursperweek  native-country  class  \n",
       "1            1            0             2   United-States  <=50K  \n",
       "2            0            0             0   United-States  <=50K  \n",
       "3            0            0             2   United-States  <=50K  \n",
       "4            0            0             2   United-States  <=50K  "
      ]
     },
     "execution_count": 4,
     "metadata": {},
     "output_type": "execute_result"
    }
   ],
   "source": [
    "data.head()"
   ]
  },
  {
   "cell_type": "code",
   "execution_count": 5,
   "metadata": {},
   "outputs": [
    {
     "data": {
      "text/plain": [
       "(48843, 15)"
      ]
     },
     "execution_count": 5,
     "metadata": {},
     "output_type": "execute_result"
    }
   ],
   "source": [
    "data.shape"
   ]
  },
  {
   "cell_type": "code",
   "execution_count": 6,
   "metadata": {},
   "outputs": [
    {
     "name": "stdout",
     "output_type": "stream",
     "text": [
      "<class 'pandas.core.frame.DataFrame'>\n",
      "RangeIndex: 48843 entries, 0 to 48842\n",
      "Data columns (total 15 columns):\n",
      " #   Column          Non-Null Count  Dtype \n",
      "---  ------          --------------  ----- \n",
      " 0   Age             48843 non-null  object\n",
      " 1   Workclass       46044 non-null  object\n",
      " 2   fnlwgt          48843 non-null  object\n",
      " 3   Education       48843 non-null  object\n",
      " 4   Education-Num   48843 non-null  object\n",
      " 5   Marital_Status  48843 non-null  object\n",
      " 6   Occupation      46034 non-null  object\n",
      " 7   Relationship    48843 non-null  object\n",
      " 8   Race            48843 non-null  object\n",
      " 9   Gender          48843 non-null  object\n",
      " 10  Capital-Gain    48843 non-null  object\n",
      " 11  Capital-Loss    48843 non-null  object\n",
      " 12  Hour_Per_Week   48843 non-null  object\n",
      " 13  Native          47986 non-null  object\n",
      " 14  Income          48843 non-null  object\n",
      "dtypes: object(15)\n",
      "memory usage: 5.6+ MB\n"
     ]
    }
   ],
   "source": [
    "data.info()"
   ]
  },
  {
   "cell_type": "code",
   "execution_count": 7,
   "metadata": {},
   "outputs": [
    {
     "data": {
      "text/plain": [
       "Age                  0\n",
       "Workclass         2799\n",
       "fnlwgt               0\n",
       "Education            0\n",
       "Education-Num        0\n",
       "Marital_Status       0\n",
       "Occupation        2809\n",
       "Relationship         0\n",
       "Race                 0\n",
       "Gender               0\n",
       "Capital-Gain         0\n",
       "Capital-Loss         0\n",
       "Hour_Per_Week        0\n",
       "Native             857\n",
       "Income               0\n",
       "dtype: int64"
      ]
     },
     "execution_count": 7,
     "metadata": {},
     "output_type": "execute_result"
    }
   ],
   "source": [
    "data.isnull().sum()"
   ]
  },
  {
   "cell_type": "code",
   "execution_count": 8,
   "metadata": {},
   "outputs": [
    {
     "data": {
      "text/html": [
       "<div>\n",
       "<style scoped>\n",
       "    .dataframe tbody tr th:only-of-type {\n",
       "        vertical-align: middle;\n",
       "    }\n",
       "\n",
       "    .dataframe tbody tr th {\n",
       "        vertical-align: top;\n",
       "    }\n",
       "\n",
       "    .dataframe thead th {\n",
       "        text-align: right;\n",
       "    }\n",
       "</style>\n",
       "<table border=\"1\" class=\"dataframe\">\n",
       "  <thead>\n",
       "    <tr style=\"text-align: right;\">\n",
       "      <th></th>\n",
       "      <th>Age</th>\n",
       "      <th>Workclass</th>\n",
       "      <th>fnlwgt</th>\n",
       "      <th>Education</th>\n",
       "      <th>Education-Num</th>\n",
       "      <th>Marital_Status</th>\n",
       "      <th>Occupation</th>\n",
       "      <th>Relationship</th>\n",
       "      <th>Race</th>\n",
       "      <th>Gender</th>\n",
       "      <th>Capital-Gain</th>\n",
       "      <th>Capital-Loss</th>\n",
       "      <th>Hour_Per_Week</th>\n",
       "      <th>Native</th>\n",
       "      <th>Income</th>\n",
       "    </tr>\n",
       "  </thead>\n",
       "  <tbody>\n",
       "    <tr>\n",
       "      <th>count</th>\n",
       "      <td>48843</td>\n",
       "      <td>46044</td>\n",
       "      <td>48843</td>\n",
       "      <td>48843</td>\n",
       "      <td>48843</td>\n",
       "      <td>48843</td>\n",
       "      <td>46034</td>\n",
       "      <td>48843</td>\n",
       "      <td>48843</td>\n",
       "      <td>48843</td>\n",
       "      <td>48843</td>\n",
       "      <td>48843</td>\n",
       "      <td>48843</td>\n",
       "      <td>47986</td>\n",
       "      <td>48843</td>\n",
       "    </tr>\n",
       "    <tr>\n",
       "      <th>unique</th>\n",
       "      <td>6</td>\n",
       "      <td>9</td>\n",
       "      <td>28524</td>\n",
       "      <td>17</td>\n",
       "      <td>17</td>\n",
       "      <td>8</td>\n",
       "      <td>15</td>\n",
       "      <td>7</td>\n",
       "      <td>6</td>\n",
       "      <td>3</td>\n",
       "      <td>6</td>\n",
       "      <td>6</td>\n",
       "      <td>6</td>\n",
       "      <td>42</td>\n",
       "      <td>3</td>\n",
       "    </tr>\n",
       "    <tr>\n",
       "      <th>top</th>\n",
       "      <td>1</td>\n",
       "      <td>Private</td>\n",
       "      <td>203488</td>\n",
       "      <td>HS-grad</td>\n",
       "      <td>9</td>\n",
       "      <td>Married-civ-spouse</td>\n",
       "      <td>Prof-specialty</td>\n",
       "      <td>Husband</td>\n",
       "      <td>White</td>\n",
       "      <td>Male</td>\n",
       "      <td>0</td>\n",
       "      <td>0</td>\n",
       "      <td>2</td>\n",
       "      <td>United-States</td>\n",
       "      <td>&lt;=50K</td>\n",
       "    </tr>\n",
       "    <tr>\n",
       "      <th>freq</th>\n",
       "      <td>12719</td>\n",
       "      <td>33906</td>\n",
       "      <td>21</td>\n",
       "      <td>15784</td>\n",
       "      <td>15784</td>\n",
       "      <td>22379</td>\n",
       "      <td>6172</td>\n",
       "      <td>19716</td>\n",
       "      <td>41762</td>\n",
       "      <td>32650</td>\n",
       "      <td>44807</td>\n",
       "      <td>46560</td>\n",
       "      <td>27809</td>\n",
       "      <td>43832</td>\n",
       "      <td>37155</td>\n",
       "    </tr>\n",
       "  </tbody>\n",
       "</table>\n",
       "</div>"
      ],
      "text/plain": [
       "          Age Workclass  fnlwgt Education Education-Num      Marital_Status  \\\n",
       "count   48843     46044   48843     48843         48843               48843   \n",
       "unique      6         9   28524        17            17                   8   \n",
       "top         1   Private  203488   HS-grad             9  Married-civ-spouse   \n",
       "freq    12719     33906      21     15784         15784               22379   \n",
       "\n",
       "            Occupation Relationship   Race Gender Capital-Gain Capital-Loss  \\\n",
       "count            46034        48843  48843  48843        48843        48843   \n",
       "unique              15            7      6      3            6            6   \n",
       "top     Prof-specialty      Husband  White   Male            0            0   \n",
       "freq              6172        19716  41762  32650        44807        46560   \n",
       "\n",
       "       Hour_Per_Week         Native Income  \n",
       "count          48843          47986  48843  \n",
       "unique             6             42      3  \n",
       "top                2  United-States  <=50K  \n",
       "freq           27809          43832  37155  "
      ]
     },
     "execution_count": 8,
     "metadata": {},
     "output_type": "execute_result"
    }
   ],
   "source": [
    "data.describe()"
   ]
  },
  {
   "cell_type": "markdown",
   "metadata": {},
   "source": [
    "# Fazendo Feature Engineering"
   ]
  },
  {
   "cell_type": "code",
   "execution_count": 9,
   "metadata": {},
   "outputs": [],
   "source": [
    "#Adicionando os itens mais comuns\n",
    "data['Workclass'].fillna(('Private'), inplace=True)\n",
    "data['Occupation'].fillna(('Prof-specialty'), inplace=True)\n",
    "data['Native'].fillna(('United-States'), inplace=True)"
   ]
  },
  {
   "cell_type": "code",
   "execution_count": 10,
   "metadata": {},
   "outputs": [],
   "source": [
    "#Renomenado dados parecidos para mesmo grupo\n",
    "data['Education'][data['Education'].str.contains('th')] = 'Basic-Education'\n",
    "data['Education'][data['Education'].str.contains('HS')] = 'Basic-Education'\n",
    "data['Education'][data['Education'].str.contains('Pre')] = 'Basic-Education'\n",
    "data['Education'][data['Education'].str.contains('Assoc')] = 'Intermediate-Education'\n",
    "data['Education'][data['Education'].str.contains('Some')] = 'Intermediate-Education'\n",
    "data['Education'][data['Education'].str.contains('Prof')] = 'Intermediate-Education'\n",
    "data['Workclass'][data['Workclass'].str.contains('gov')] = 'Government'\n",
    "data['Workclass'][data['Workclass'].str.contains('not')] = 'No-Income'\n",
    "data['Workclass'][data['Workclass'].str.contains('pay')] = 'No-Income'\n",
    "data['Workclass'][data['Workclass'].str.contains('Never')] = 'No-Income'"
   ]
  },
  {
   "cell_type": "code",
   "execution_count": 11,
   "metadata": {},
   "outputs": [],
   "source": [
    "#Dispensando colunas não tão valiosas, apesar de capital gain e loss se juntadas e normalizada ser muito valiosa\n",
    "to_drop = ['fnlwgt', 'Education-Num', 'Capital-Gain', 'Capital-Loss']\n",
    "data.drop(to_drop, inplace=True, axis=1)"
   ]
  },
  {
   "cell_type": "markdown",
   "metadata": {},
   "source": [
    "# Fazendo um dicionário\n",
    "\n",
    "#Criando Dummy\n",
    "\n",
    "Workclass   'Government':0\n",
    "            'No-Income':1\n",
    "            'Private':2\n",
    "            'Self-emp-inc':3\n",
    "\n",
    "Age    '0':0      Não lembro a faixa para cada valor\n",
    "       '1':1\n",
    "       '2':2\n",
    "       '3':3\n",
    "       '4':4\n",
    "\n",
    "'over50K'    'Abaixo' : 0\n",
    "             'Acima' : 1\n",
    "\n",
    "Occupation    'Adm-clerical':0\n",
    "              'Armed-Forces':1\n",
    "              'Exec-managerial':2\n",
    "              'Handlers-cleaners':3\n",
    "              'Other-service':3\n",
    "              'Farming-fishing':3\n",
    "              'Protective-serv':3                                  \n",
    "              'Priv-house-serv':3\n",
    "              'Prof-specialty':4\n",
    "              'Craft-repair':4\n",
    "              'Transport-moving':4\n",
    "              'Machine-op-inspct':4\n",
    "              'Tech-support':4\n",
    "              'Sales':5\n",
    "              \n",
    "                                                \n",
    "\n",
    "Race    'Amer-Indian-Eskimo':0\n",
    "        'Asian-Pac-Islander':1\n",
    "        'Black':2\n",
    "        'Other':3\n",
    "        'White':4\n",
    "\n",
    "\n",
    "Gender    'Female':0\n",
    "          'Male':1\n",
    "\n",
    "Native    'Cuba':0\n",
    "          'Jamaica':0\n",
    "          'Mexico':0\n",
    "          'South':0\n",
    "          'Puerto-Rico':0\n",
    "          'Honduras':0\n",
    "          'Columbia':0\n",
    "          'Ecuador':0\n",
    "          'Haiti':0\n",
    "          'Dominican-Republic':0\n",
    "          'El-Salvador':0\n",
    "          'Guatemala':0\n",
    "          'Nicaragua':0\n",
    "          'Peru':0\n",
    "          'Vietnam':1\n",
    "          'Hong':1\n",
    "          'China':1\n",
    "          'Laos':1\n",
    "          'Taiwan':1\n",
    "          'Cambodia':1\n",
    "          'Thailand':1\n",
    "          'India':1\n",
    "          'Philippines':1\n",
    "          'Iran':1\n",
    "          'Japan':2\n",
    "          'Canada':2\n",
    "          'Poland':3\n",
    "          'Yugoslavia':3\n",
    "          'Trinadad&Tobago':3\n",
    "          'Greece':3\n",
    "          'Hungary':3\n",
    "          'Portugal':4\n",
    "          'Germany':4\n",
    "          'Italy':4\n",
    "          'England':4  \n",
    "          'France':4\n",
    "          'Scotland':4\n",
    "          'Ireland':4\n",
    "          'Holand-Netherlands':4\n",
    "          'United-States':5\n",
    "          \n",
    "                                     \n",
    "\n",
    "Education    'Bachelors':0 \n",
    "             'Basic-Education':1\n",
    "             'Doctorate':2\n",
    "             'Intermediate-Education':3                  \n",
    "             'Masters':4\n",
    "             \n",
    "\n",
    "Marital_Status    'Married-civ-spouse':0\n",
    "                  'Married-AF-spouse':0\n",
    "                  'Never-married':1\n",
    "                  'Married-spouse-absent':1\n",
    "                  'Divorced':2\n",
    "                  'Widowed':2\n",
    "                  'Separated':2\n",
    "\n",
    "Relationship 'Not-in-family':0\n",
    "             'Unmarried':0\n",
    "             'Other-relative':0\n",
    "             'Own-child':1\n",
    "             'Husband':2\n",
    "             'Wife':2"
   ]
  },
  {
   "cell_type": "code",
   "execution_count": 12,
   "metadata": {},
   "outputs": [],
   "source": [
    "#Dropando dados ruins\n",
    "data = data.drop([1566, 4234, 4509, 7026, 14681, 16121, 19130, 21666, 26387, 28495, 28576, 29917, 30089, 31687, 36267, 38341, 39087, 41336, 42612, 42991, 45703, 48421, 48766], axis=0)"
   ]
  },
  {
   "cell_type": "code",
   "execution_count": 13,
   "metadata": {},
   "outputs": [],
   "source": [
    "#Acertando os nomes para depois fazer o dicionário\n",
    "\n",
    "data['Occupation'] = data['Occupation'].str.replace('Handlers-cleaners', 'Other-service')\n",
    "data['Occupation'] = data['Occupation'].str.replace('Farming-fishing', 'Other-service')\n",
    "data['Occupation'] = data['Occupation'].str.replace('Protective-serv', 'Other-service')\n",
    "data['Occupation'] = data['Occupation'].str.replace('Priv-house-serv', 'Other-service')\n",
    "data['Occupation'] = data['Occupation'].str.replace('Craft-repair', 'Prof-specialty')\n",
    "data['Occupation'] = data['Occupation'].str.replace('Transport-moving', 'Prof-specialty')\n",
    "data['Occupation'] = data['Occupation'].str.replace('Machine-op-inspct', 'Prof-specialty')\n",
    "data['Occupation'] = data['Occupation'].str.replace('Tech-support', 'Prof-specialty')\n",
    "\n",
    "data['Native'] = data['Native'].str.replace('Cuba', 'America')\n",
    "data['Native'] = data['Native'].str.replace('Jamaica', 'America')\n",
    "data['Native'] = data['Native'].str.replace('Mexico', 'America')\n",
    "data['Native'] = data['Native'].str.replace('South', 'America')\n",
    "data['Native'] = data['Native'].str.replace('Puerto-Rico', 'America')\n",
    "data['Native'] = data['Native'].str.replace('Honduras', 'America')\n",
    "data['Native'] = data['Native'].str.replace('Columbia', 'America')\n",
    "data['Native'] = data['Native'].str.replace('Ecuador', 'America')\n",
    "data['Native'] = data['Native'].str.replace('Haiti', 'America')\n",
    "data['Native'] = data['Native'].str.replace('Dominican-Republic', 'America')\n",
    "data['Native'] = data['Native'].str.replace('El-Salvador', 'America')\n",
    "data['Native'] = data['Native'].str.replace('Guatemala', 'America')\n",
    "data['Native'] = data['Native'].str.replace('Nicaragua', 'America')\n",
    "data['Native'] = data['Native'].str.replace('Peru', 'America')\n",
    "data['Native'] = data['Native'].str.replace('Vietnam', 'Asia')\n",
    "data['Native'] = data['Native'].str.replace('Hong', 'Asia')\n",
    "data['Native'] = data['Native'].str.replace('China', 'Asia')\n",
    "data['Native'] = data['Native'].str.replace('Laos', 'Asia')\n",
    "data['Native'] = data['Native'].str.replace('Taiwan', 'Asia')\n",
    "data['Native'] = data['Native'].str.replace('Cambodia', 'Asia')\n",
    "data['Native'] = data['Native'].str.replace('Thailand', 'Asia')\n",
    "data['Native'] = data['Native'].str.replace('India', 'Asia')\n",
    "data['Native'] = data['Native'].str.replace('Philippines', 'Asia')\n",
    "data['Native'] = data['Native'].str.replace('Iran', 'Asia')\n",
    "data['Native'] = data['Native'].str.replace('Portugal', 'Europe')\n",
    "data['Native'] = data['Native'].str.replace('Germany', 'Europe')\n",
    "data['Native'] = data['Native'].str.replace('Italy', 'Europe')\n",
    "data['Native'] = data['Native'].str.replace('England', 'Europe')\n",
    "data['Native'] = data['Native'].str.replace('France', 'Europe')\n",
    "data['Native'] = data['Native'].str.replace('Scotland', 'Europe')\n",
    "data['Native'] = data['Native'].str.replace('Ireland', 'Europe')\n",
    "data['Native'] = data['Native'].str.replace('Holand-Netherlands', 'Europe')\n",
    "data['Native'] = data['Native'].str.replace('Canada', 'Can-Jap')\n",
    "data['Native'] = data['Native'].str.replace('Japan', 'Can-Jap')\n",
    "data['Native'] = data['Native'].str.replace('Poland', 'East-Europe')\n",
    "data['Native'] = data['Native'].str.replace('Yugoslavia', 'East-Europe')\n",
    "data['Native'] = data['Native'].str.replace('Trinadad&Tobago', 'East-Europe')\n",
    "data['Native'] = data['Native'].str.replace('Greece', 'East-Europe')\n",
    "data['Native'] = data['Native'].str.replace('Hungary', 'East-Europe')\n",
    "\n",
    "data['Marital_Status'] = data['Marital_Status'].str.replace('Married-spouse-absent', 'Never-married')\n",
    "data['Marital_Status'] = data['Marital_Status'].str.replace('Married-civ-spouse', 'Married')\n",
    "data['Marital_Status'] = data['Marital_Status'].str.replace('Married-AF-spouse', 'Married')\n",
    "data['Marital_Status'] = data['Marital_Status'].str.replace('Divorced', 'Separated')\n",
    "data['Marital_Status'] = data['Marital_Status'].str.replace('Widowed', 'Separated')\n",
    "\n",
    "data['Relationship'] = data['Relationship'].str.replace('Unmarried', 'Not-in-family')\n",
    "data['Relationship'] = data['Relationship'].str.replace('Other-relative', 'Not-in-family')\n",
    "data['Relationship'] = data['Relationship'].str.replace('Husband', 'Spouse')\n",
    "data['Relationship'] = data['Relationship'].str.replace('Wife', 'Spouse')"
   ]
  },
  {
   "cell_type": "code",
   "execution_count": 14,
   "metadata": {},
   "outputs": [],
   "source": [
    "#Passando tudo para category\n",
    "data['Age']  = data['Age'].astype('category')\n",
    "data['Workclass']  = data['Workclass'].astype('category')\n",
    "data['Education']  = data['Education'].astype('category')\n",
    "data['Marital_Status']  = data['Marital_Status'].astype('category')\n",
    "data['Occupation']  = data['Occupation'].astype('category')\n",
    "data['Relationship']  = data['Relationship'].astype('category')\n",
    "data['Race']  = data['Race'].astype('category')\n",
    "data['Gender']  = data['Gender'].astype('category')\n",
    "data['Hour_Per_Week']  = data['Hour_Per_Week'].astype('category')\n",
    "data['Native']  = data['Native'].astype('category')\n",
    "data['Income']  = data['Income'].astype('category')"
   ]
  },
  {
   "cell_type": "code",
   "execution_count": 15,
   "metadata": {},
   "outputs": [],
   "source": [
    "#Primeira linha é com header\n",
    "data = data.drop(data.index[0])"
   ]
  },
  {
   "cell_type": "code",
   "execution_count": 16,
   "metadata": {},
   "outputs": [],
   "source": [
    "#Passando tudo para numero de category\n",
    "data['Age']  = data['Age'].cat.codes\n",
    "data['Workclass']  = data['Workclass'].cat.codes\n",
    "data['Education']  = data['Education'].cat.codes\n",
    "data['Marital_Status']  = data['Marital_Status'].cat.codes\n",
    "data['Occupation']  = data['Occupation'].cat.codes\n",
    "data['Relationship']  = data['Relationship'].cat.codes\n",
    "data['Race']  = data['Race'].cat.codes\n",
    "data['Gender']  = data['Gender'].cat.codes\n",
    "data['Hour_Per_Week']  = data['Hour_Per_Week'].cat.codes\n",
    "data['Native']  = data['Native'].cat.codes\n",
    "data['Income']  = data['Income'].cat.codes"
   ]
  },
  {
   "cell_type": "markdown",
   "metadata": {},
   "source": [
    "# Base Categorizada\n",
    "    \n",
    "    Fazer o KNN com Cross-Validation e pegar o ACC"
   ]
  },
  {
   "cell_type": "code",
   "execution_count": 17,
   "metadata": {},
   "outputs": [],
   "source": [
    "from sklearn.model_selection import cross_validate\n",
    "from sklearn.model_selection import train_test_split\n",
    "from sklearn.neighbors import KNeighborsClassifier\n",
    "from sklearn.model_selection import cross_val_score\n",
    "from sklearn.metrics import recall_score\n",
    "from sklearn.metrics import average_precision_score\n",
    "import numpy as np"
   ]
  },
  {
   "cell_type": "code",
   "execution_count": 18,
   "metadata": {},
   "outputs": [
    {
     "data": {
      "text/html": [
       "<div>\n",
       "<style scoped>\n",
       "    .dataframe tbody tr th:only-of-type {\n",
       "        vertical-align: middle;\n",
       "    }\n",
       "\n",
       "    .dataframe tbody tr th {\n",
       "        vertical-align: top;\n",
       "    }\n",
       "\n",
       "    .dataframe thead th {\n",
       "        text-align: right;\n",
       "    }\n",
       "</style>\n",
       "<table border=\"1\" class=\"dataframe\">\n",
       "  <thead>\n",
       "    <tr style=\"text-align: right;\">\n",
       "      <th></th>\n",
       "      <th>Age</th>\n",
       "      <th>Workclass</th>\n",
       "      <th>Education</th>\n",
       "      <th>Marital_Status</th>\n",
       "      <th>Occupation</th>\n",
       "      <th>Relationship</th>\n",
       "      <th>Race</th>\n",
       "      <th>Gender</th>\n",
       "      <th>Hour_Per_Week</th>\n",
       "      <th>Native</th>\n",
       "      <th>Income</th>\n",
       "    </tr>\n",
       "  </thead>\n",
       "  <tbody>\n",
       "    <tr>\n",
       "      <th>1</th>\n",
       "      <td>2</td>\n",
       "      <td>0</td>\n",
       "      <td>0</td>\n",
       "      <td>1</td>\n",
       "      <td>0</td>\n",
       "      <td>0</td>\n",
       "      <td>4</td>\n",
       "      <td>1</td>\n",
       "      <td>2</td>\n",
       "      <td>5</td>\n",
       "      <td>0</td>\n",
       "    </tr>\n",
       "    <tr>\n",
       "      <th>2</th>\n",
       "      <td>3</td>\n",
       "      <td>1</td>\n",
       "      <td>0</td>\n",
       "      <td>0</td>\n",
       "      <td>2</td>\n",
       "      <td>2</td>\n",
       "      <td>4</td>\n",
       "      <td>1</td>\n",
       "      <td>0</td>\n",
       "      <td>5</td>\n",
       "      <td>0</td>\n",
       "    </tr>\n",
       "    <tr>\n",
       "      <th>3</th>\n",
       "      <td>2</td>\n",
       "      <td>2</td>\n",
       "      <td>1</td>\n",
       "      <td>2</td>\n",
       "      <td>3</td>\n",
       "      <td>0</td>\n",
       "      <td>4</td>\n",
       "      <td>1</td>\n",
       "      <td>2</td>\n",
       "      <td>5</td>\n",
       "      <td>0</td>\n",
       "    </tr>\n",
       "    <tr>\n",
       "      <th>4</th>\n",
       "      <td>3</td>\n",
       "      <td>2</td>\n",
       "      <td>1</td>\n",
       "      <td>0</td>\n",
       "      <td>3</td>\n",
       "      <td>2</td>\n",
       "      <td>2</td>\n",
       "      <td>1</td>\n",
       "      <td>2</td>\n",
       "      <td>5</td>\n",
       "      <td>0</td>\n",
       "    </tr>\n",
       "    <tr>\n",
       "      <th>5</th>\n",
       "      <td>1</td>\n",
       "      <td>2</td>\n",
       "      <td>0</td>\n",
       "      <td>0</td>\n",
       "      <td>4</td>\n",
       "      <td>2</td>\n",
       "      <td>2</td>\n",
       "      <td>0</td>\n",
       "      <td>2</td>\n",
       "      <td>0</td>\n",
       "      <td>0</td>\n",
       "    </tr>\n",
       "    <tr>\n",
       "      <th>...</th>\n",
       "      <td>...</td>\n",
       "      <td>...</td>\n",
       "      <td>...</td>\n",
       "      <td>...</td>\n",
       "      <td>...</td>\n",
       "      <td>...</td>\n",
       "      <td>...</td>\n",
       "      <td>...</td>\n",
       "      <td>...</td>\n",
       "      <td>...</td>\n",
       "      <td>...</td>\n",
       "    </tr>\n",
       "    <tr>\n",
       "      <th>48838</th>\n",
       "      <td>2</td>\n",
       "      <td>2</td>\n",
       "      <td>0</td>\n",
       "      <td>2</td>\n",
       "      <td>4</td>\n",
       "      <td>0</td>\n",
       "      <td>4</td>\n",
       "      <td>0</td>\n",
       "      <td>2</td>\n",
       "      <td>5</td>\n",
       "      <td>0</td>\n",
       "    </tr>\n",
       "    <tr>\n",
       "      <th>48839</th>\n",
       "      <td>4</td>\n",
       "      <td>2</td>\n",
       "      <td>1</td>\n",
       "      <td>2</td>\n",
       "      <td>4</td>\n",
       "      <td>0</td>\n",
       "      <td>2</td>\n",
       "      <td>1</td>\n",
       "      <td>2</td>\n",
       "      <td>5</td>\n",
       "      <td>0</td>\n",
       "    </tr>\n",
       "    <tr>\n",
       "      <th>48840</th>\n",
       "      <td>2</td>\n",
       "      <td>2</td>\n",
       "      <td>0</td>\n",
       "      <td>0</td>\n",
       "      <td>4</td>\n",
       "      <td>2</td>\n",
       "      <td>4</td>\n",
       "      <td>1</td>\n",
       "      <td>3</td>\n",
       "      <td>5</td>\n",
       "      <td>0</td>\n",
       "    </tr>\n",
       "    <tr>\n",
       "      <th>48841</th>\n",
       "      <td>2</td>\n",
       "      <td>2</td>\n",
       "      <td>0</td>\n",
       "      <td>2</td>\n",
       "      <td>0</td>\n",
       "      <td>1</td>\n",
       "      <td>1</td>\n",
       "      <td>1</td>\n",
       "      <td>2</td>\n",
       "      <td>5</td>\n",
       "      <td>0</td>\n",
       "    </tr>\n",
       "    <tr>\n",
       "      <th>48842</th>\n",
       "      <td>1</td>\n",
       "      <td>3</td>\n",
       "      <td>0</td>\n",
       "      <td>0</td>\n",
       "      <td>2</td>\n",
       "      <td>2</td>\n",
       "      <td>4</td>\n",
       "      <td>1</td>\n",
       "      <td>3</td>\n",
       "      <td>5</td>\n",
       "      <td>1</td>\n",
       "    </tr>\n",
       "  </tbody>\n",
       "</table>\n",
       "<p>48819 rows × 11 columns</p>\n",
       "</div>"
      ],
      "text/plain": [
       "       Age  Workclass  Education  Marital_Status  Occupation  Relationship  \\\n",
       "1        2          0          0               1           0             0   \n",
       "2        3          1          0               0           2             2   \n",
       "3        2          2          1               2           3             0   \n",
       "4        3          2          1               0           3             2   \n",
       "5        1          2          0               0           4             2   \n",
       "...    ...        ...        ...             ...         ...           ...   \n",
       "48838    2          2          0               2           4             0   \n",
       "48839    4          2          1               2           4             0   \n",
       "48840    2          2          0               0           4             2   \n",
       "48841    2          2          0               2           0             1   \n",
       "48842    1          3          0               0           2             2   \n",
       "\n",
       "       Race  Gender  Hour_Per_Week  Native  Income  \n",
       "1         4       1              2       5       0  \n",
       "2         4       1              0       5       0  \n",
       "3         4       1              2       5       0  \n",
       "4         2       1              2       5       0  \n",
       "5         2       0              2       0       0  \n",
       "...     ...     ...            ...     ...     ...  \n",
       "48838     4       0              2       5       0  \n",
       "48839     2       1              2       5       0  \n",
       "48840     4       1              3       5       0  \n",
       "48841     1       1              2       5       0  \n",
       "48842     4       1              3       5       1  \n",
       "\n",
       "[48819 rows x 11 columns]"
      ]
     },
     "execution_count": 18,
     "metadata": {},
     "output_type": "execute_result"
    }
   ],
   "source": [
    "data"
   ]
  },
  {
   "cell_type": "code",
   "execution_count": 19,
   "metadata": {},
   "outputs": [],
   "source": [
    "X = data[['Age', 'Workclass', 'Education', 'Marital_Status', 'Occupation', 'Relationship', 'Race', 'Gender', 'Hour_Per_Week', 'Native']]\n",
    "y = data['Income']"
   ]
  },
  {
   "cell_type": "markdown",
   "metadata": {},
   "source": [
    "# Construindo KNN"
   ]
  },
  {
   "cell_type": "markdown",
   "metadata": {},
   "source": [
    "# Como tem poucos casos positivos, apenas 11K contra 36K, então o F1-Score faz sentido de ser aplicado"
   ]
  },
  {
   "cell_type": "code",
   "execution_count": 20,
   "metadata": {},
   "outputs": [],
   "source": [
    "# Split dataset into training set and test set\n",
    "X_train, X_test, y_train, y_test = train_test_split(X,y, test_size=0.3) # 70% training and 30% test"
   ]
  },
  {
   "cell_type": "code",
   "execution_count": 21,
   "metadata": {
    "scrolled": true
   },
   "outputs": [
    {
     "name": "stdout",
     "output_type": "stream",
     "text": [
      "Acurácia =  0.8239824748305031\n",
      "Precision =  0.7641868413253441\n",
      "Recall =  0.7226186483142333\n",
      "F1-Score =  0.7387462297322328\n"
     ]
    }
   ],
   "source": [
    "scoring = ['precision_macro', 'accuracy', 'f1_macro', 'recall_macro']\n",
    "#create a new KNN model\n",
    "knn_cv = KNeighborsClassifier(n_neighbors=23)\n",
    "#train model with cv of 10\n",
    "\n",
    "scores = cross_validate(knn_cv, X, y, cv=10, scoring=scoring)\n",
    "print('Acurácia = ', np.mean(scores['test_accuracy']))\n",
    "print('Precision = ', np.mean(scores['test_precision_macro']))\n",
    "print('Recall = ', np.mean(scores['test_recall_macro']))\n",
    "print('F1-Score = ', np.mean(scores['test_f1_macro']))"
   ]
  },
  {
   "cell_type": "markdown",
   "metadata": {},
   "source": [
    "# SVM"
   ]
  },
  {
   "cell_type": "code",
   "execution_count": 22,
   "metadata": {},
   "outputs": [],
   "source": [
    "from sklearn import svm"
   ]
  },
  {
   "cell_type": "code",
   "execution_count": 23,
   "metadata": {},
   "outputs": [
    {
     "name": "stderr",
     "output_type": "stream",
     "text": [
      "/home/adolpho/anaconda3/lib/python3.7/site-packages/sklearn/metrics/_classification.py:1221: UndefinedMetricWarning: Precision is ill-defined and being set to 0.0 in labels with no predicted samples. Use `zero_division` parameter to control this behavior.\n",
      "  _warn_prf(average, modifier, msg_start, len(result))\n",
      "/home/adolpho/anaconda3/lib/python3.7/site-packages/sklearn/metrics/_classification.py:1221: UndefinedMetricWarning: Precision is ill-defined and being set to 0.0 in labels with no predicted samples. Use `zero_division` parameter to control this behavior.\n",
      "  _warn_prf(average, modifier, msg_start, len(result))\n",
      "/home/adolpho/anaconda3/lib/python3.7/site-packages/sklearn/metrics/_classification.py:1221: UndefinedMetricWarning: Precision is ill-defined and being set to 0.0 in labels with no predicted samples. Use `zero_division` parameter to control this behavior.\n",
      "  _warn_prf(average, modifier, msg_start, len(result))\n",
      "/home/adolpho/anaconda3/lib/python3.7/site-packages/sklearn/metrics/_classification.py:1221: UndefinedMetricWarning: Precision is ill-defined and being set to 0.0 in labels with no predicted samples. Use `zero_division` parameter to control this behavior.\n",
      "  _warn_prf(average, modifier, msg_start, len(result))\n"
     ]
    },
    {
     "name": "stdout",
     "output_type": "stream",
     "text": [
      "Recall Macro:  [0.5 0.5 0.5 0.5 0.5]\n",
      "-------------------------\n",
      "\n",
      "Precision Macro:  [0.38032569 0.38032569 0.38032569 0.38027448 0.38031343]\n",
      "-------------------------\n",
      "\n",
      "Accuracy:  [0.76065137 0.76065137 0.76065137 0.76054896 0.76062686]\n",
      "-------------------------\n",
      "\n",
      "F1-Score:  [0.43202839 0.43202839 0.43202839 0.43199535 0.43202048]\n"
     ]
    },
    {
     "name": "stderr",
     "output_type": "stream",
     "text": [
      "/home/adolpho/anaconda3/lib/python3.7/site-packages/sklearn/metrics/_classification.py:1221: UndefinedMetricWarning: Precision is ill-defined and being set to 0.0 in labels with no predicted samples. Use `zero_division` parameter to control this behavior.\n",
      "  _warn_prf(average, modifier, msg_start, len(result))\n"
     ]
    }
   ],
   "source": [
    "clf = svm.SVC(kernel='linear', C=1).fit(X_train, y_train)\n",
    "scores = cross_validate(clf, X, y, scoring=scoring)\n",
    "sorted(scores.keys())\n",
    "print('Recall Macro: ',scores['test_recall_macro'])\n",
    "print('-------------------------\\n')\n",
    "print('Precision Macro: ',scores['test_precision_macro'])\n",
    "print('-------------------------\\n')\n",
    "print('Accuracy: ',scores['test_accuracy'])\n",
    "print('-------------------------\\n')\n",
    "print('F1-Score: ',scores['test_f1_macro'])"
   ]
  },
  {
   "cell_type": "markdown",
   "metadata": {},
   "source": [
    "# Logistic Regression"
   ]
  },
  {
   "cell_type": "code",
   "execution_count": 24,
   "metadata": {},
   "outputs": [
    {
     "name": "stdout",
     "output_type": "stream",
     "text": [
      "Acurácia =  0.7802084615906926\n",
      "Precision =  0.6916245004098796\n",
      "Recall =  0.6403005366958697\n",
      "F1-Score =  0.6551484644943477\n"
     ]
    }
   ],
   "source": [
    "from sklearn.linear_model import LogisticRegression\n",
    "   \n",
    "clf = LogisticRegression(random_state=7).fit(X, y)\n",
    "\n",
    "scores = cross_validate(clf, X, y, cv=10, scoring=scoring)\n",
    "print('Acurácia = ', np.mean(scores['test_accuracy']))\n",
    "print('Precision = ', np.mean(scores['test_precision_macro']))\n",
    "print('Recall = ', np.mean(scores['test_recall_macro']))\n",
    "print('F1-Score = ', np.mean(scores['test_f1_macro']))"
   ]
  },
  {
   "cell_type": "markdown",
   "metadata": {},
   "source": [
    "# Naive Bayes"
   ]
  },
  {
   "cell_type": "code",
   "execution_count": 25,
   "metadata": {},
   "outputs": [
    {
     "name": "stdout",
     "output_type": "stream",
     "text": [
      "Acurácia =  0.7483357450962569\n",
      "Precision =  0.6917059140792288\n",
      "Recall =  0.7437015624426581\n",
      "F1-Score =  0.7013775635956054\n"
     ]
    }
   ],
   "source": [
    "from sklearn.naive_bayes import GaussianNB, BernoulliNB\n",
    "import numpy.random as nr\n",
    "import sklearn.model_selection as ms\n",
    "\n",
    "nr.seed(7)\n",
    "NB_credit = GaussianNB()\n",
    "scores = cross_validate(NB_credit, X, y, cv=10, scoring=scoring)\n",
    "print('Acurácia = ', np.mean(scores['test_accuracy']))\n",
    "print('Precision = ', np.mean(scores['test_precision_macro']))\n",
    "print('Recall = ', np.mean(scores['test_recall_macro']))\n",
    "print('F1-Score = ', np.mean(scores['test_f1_macro']))"
   ]
  },
  {
   "cell_type": "markdown",
   "metadata": {},
   "source": [
    "# Decision Tree"
   ]
  },
  {
   "cell_type": "code",
   "execution_count": 26,
   "metadata": {},
   "outputs": [
    {
     "name": "stdout",
     "output_type": "stream",
     "text": [
      "Acurácia =  0.8165262539719389\n",
      "Precision =  0.7505532679862603\n",
      "Recall =  0.7188588698231863\n",
      "F1-Score =  0.7317888064233464\n"
     ]
    }
   ],
   "source": [
    "from sklearn import tree\n",
    "\n",
    "tree_cv = tree.DecisionTreeClassifier()\n",
    "scores = cross_validate(tree_cv, X, y, cv=10, scoring=scoring)\n",
    "print('Acurácia = ', np.mean(scores['test_accuracy']))\n",
    "print('Precision = ', np.mean(scores['test_precision_macro']))\n",
    "print('Recall = ', np.mean(scores['test_recall_macro']))\n",
    "print('F1-Score = ', np.mean(scores['test_f1_macro']))"
   ]
  },
  {
   "cell_type": "markdown",
   "metadata": {},
   "source": [
    "# Random Forest"
   ]
  },
  {
   "cell_type": "code",
   "execution_count": 27,
   "metadata": {},
   "outputs": [
    {
     "name": "stdout",
     "output_type": "stream",
     "text": [
      "Acurácia =  0.913\n",
      "Precision =  0.9145410517327331\n",
      "Recall =  0.9129787915166068\n",
      "F1-Score =  0.9128605954657747\n"
     ]
    }
   ],
   "source": [
    "from sklearn.ensemble import RandomForestClassifier\n",
    "from sklearn.datasets import make_classification\n",
    "\n",
    "X, y = make_classification(n_samples=1000, n_features=4, n_informative=2, n_redundant=0, random_state=7, shuffle=False)\n",
    "random_cv = RandomForestClassifier(max_depth=2, random_state=0)\n",
    "\n",
    "scores = cross_validate(random_cv, X, y, cv=10, scoring=scoring)\n",
    "print('Acurácia = ', np.mean(scores['test_accuracy']))\n",
    "print('Precision = ', np.mean(scores['test_precision_macro']))\n",
    "print('Recall = ', np.mean(scores['test_recall_macro']))\n",
    "print('F1-Score = ', np.mean(scores['test_f1_macro']))"
   ]
  },
  {
   "cell_type": "markdown",
   "metadata": {},
   "source": [
    "# Xgboost"
   ]
  },
  {
   "cell_type": "code",
   "execution_count": 28,
   "metadata": {},
   "outputs": [
    {
     "name": "stdout",
     "output_type": "stream",
     "text": [
      "Acurácia =  0.942\n",
      "Precision =  0.9451335438015619\n",
      "Recall =  0.9418767507002801\n",
      "F1-Score =  0.9417918570214179\n"
     ]
    }
   ],
   "source": [
    "import xgboost as xgb\n",
    "\n",
    "xgb_cv = xgb.XGBClassifier(objective=\"binary:logistic\", random_state=42)\n",
    "scores = cross_validate(xgb_cv, X, y, cv=10, scoring=scoring)\n",
    "print('Acurácia = ', np.mean(scores['test_accuracy']))\n",
    "print('Precision = ', np.mean(scores['test_precision_macro']))\n",
    "print('Recall = ', np.mean(scores['test_recall_macro']))\n",
    "print('F1-Score = ', np.mean(scores['test_f1_macro']))"
   ]
  },
  {
   "cell_type": "markdown",
   "metadata": {},
   "source": [
    "\n",
    " ---------|   ACC    |   Prec   |  Recall  | F1-Score |\n",
    " --------------------------------------------------------------------\n",
    " ## KNN - | 82,40  | 76,42  |  72,26  |    73,87 |\n",
    " ## SVM - | 76,06  | 38,08  |  50,00  |    43,20 |\n",
    " ## LR  --- | 78,02 |  69,16  |  64,03  |    65,51 |\n",
    " ## NB --- |  74,83 |  69,17  |  74,37  |    70,14 |\n",
    " ## DT ---  | 81,65 |  75,05  |  71,89  |   73,18  |\n",
    " ## RF ---  | 91,30 |  91,45  |  91,30  |   91,28  |\n",
    " ## XGB - |  94,20 |  94,51 |  94,19   |   94,18 |"
   ]
  },
  {
   "cell_type": "markdown",
   "metadata": {},
   "source": [
    "# Trabalhando agora com classes Balanceadas"
   ]
  },
  {
   "cell_type": "code",
   "execution_count": 29,
   "metadata": {},
   "outputs": [],
   "source": [
    "datat = data\n",
    "dzero_index = (datat['Income'] == 0)\n",
    "dum_index = (datat['Income'] == 1)\n",
    "dzero = datat[dzero_index]\n",
    "dum = datat[dum_index]"
   ]
  },
  {
   "cell_type": "code",
   "execution_count": 30,
   "metadata": {},
   "outputs": [],
   "source": [
    "dzero = dzero[:15000]"
   ]
  },
  {
   "cell_type": "code",
   "execution_count": 31,
   "metadata": {},
   "outputs": [],
   "source": [
    "dataf = dzero.append(dum)"
   ]
  },
  {
   "cell_type": "code",
   "execution_count": 32,
   "metadata": {},
   "outputs": [
    {
     "data": {
      "text/html": [
       "<div>\n",
       "<style scoped>\n",
       "    .dataframe tbody tr th:only-of-type {\n",
       "        vertical-align: middle;\n",
       "    }\n",
       "\n",
       "    .dataframe tbody tr th {\n",
       "        vertical-align: top;\n",
       "    }\n",
       "\n",
       "    .dataframe thead th {\n",
       "        text-align: right;\n",
       "    }\n",
       "</style>\n",
       "<table border=\"1\" class=\"dataframe\">\n",
       "  <thead>\n",
       "    <tr style=\"text-align: right;\">\n",
       "      <th></th>\n",
       "      <th>Age</th>\n",
       "      <th>Workclass</th>\n",
       "      <th>Education</th>\n",
       "      <th>Marital_Status</th>\n",
       "      <th>Occupation</th>\n",
       "      <th>Relationship</th>\n",
       "      <th>Race</th>\n",
       "      <th>Gender</th>\n",
       "      <th>Hour_Per_Week</th>\n",
       "      <th>Native</th>\n",
       "      <th>Income</th>\n",
       "    </tr>\n",
       "  </thead>\n",
       "  <tbody>\n",
       "    <tr>\n",
       "      <th>1</th>\n",
       "      <td>2</td>\n",
       "      <td>0</td>\n",
       "      <td>0</td>\n",
       "      <td>1</td>\n",
       "      <td>0</td>\n",
       "      <td>0</td>\n",
       "      <td>4</td>\n",
       "      <td>1</td>\n",
       "      <td>2</td>\n",
       "      <td>5</td>\n",
       "      <td>0</td>\n",
       "    </tr>\n",
       "    <tr>\n",
       "      <th>2</th>\n",
       "      <td>3</td>\n",
       "      <td>1</td>\n",
       "      <td>0</td>\n",
       "      <td>0</td>\n",
       "      <td>2</td>\n",
       "      <td>2</td>\n",
       "      <td>4</td>\n",
       "      <td>1</td>\n",
       "      <td>0</td>\n",
       "      <td>5</td>\n",
       "      <td>0</td>\n",
       "    </tr>\n",
       "    <tr>\n",
       "      <th>3</th>\n",
       "      <td>2</td>\n",
       "      <td>2</td>\n",
       "      <td>1</td>\n",
       "      <td>2</td>\n",
       "      <td>3</td>\n",
       "      <td>0</td>\n",
       "      <td>4</td>\n",
       "      <td>1</td>\n",
       "      <td>2</td>\n",
       "      <td>5</td>\n",
       "      <td>0</td>\n",
       "    </tr>\n",
       "    <tr>\n",
       "      <th>4</th>\n",
       "      <td>3</td>\n",
       "      <td>2</td>\n",
       "      <td>1</td>\n",
       "      <td>0</td>\n",
       "      <td>3</td>\n",
       "      <td>2</td>\n",
       "      <td>2</td>\n",
       "      <td>1</td>\n",
       "      <td>2</td>\n",
       "      <td>5</td>\n",
       "      <td>0</td>\n",
       "    </tr>\n",
       "    <tr>\n",
       "      <th>5</th>\n",
       "      <td>1</td>\n",
       "      <td>2</td>\n",
       "      <td>0</td>\n",
       "      <td>0</td>\n",
       "      <td>4</td>\n",
       "      <td>2</td>\n",
       "      <td>2</td>\n",
       "      <td>0</td>\n",
       "      <td>2</td>\n",
       "      <td>0</td>\n",
       "      <td>0</td>\n",
       "    </tr>\n",
       "    <tr>\n",
       "      <th>...</th>\n",
       "      <td>...</td>\n",
       "      <td>...</td>\n",
       "      <td>...</td>\n",
       "      <td>...</td>\n",
       "      <td>...</td>\n",
       "      <td>...</td>\n",
       "      <td>...</td>\n",
       "      <td>...</td>\n",
       "      <td>...</td>\n",
       "      <td>...</td>\n",
       "      <td>...</td>\n",
       "    </tr>\n",
       "    <tr>\n",
       "      <th>48816</th>\n",
       "      <td>2</td>\n",
       "      <td>2</td>\n",
       "      <td>4</td>\n",
       "      <td>0</td>\n",
       "      <td>4</td>\n",
       "      <td>2</td>\n",
       "      <td>4</td>\n",
       "      <td>1</td>\n",
       "      <td>3</td>\n",
       "      <td>5</td>\n",
       "      <td>1</td>\n",
       "    </tr>\n",
       "    <tr>\n",
       "      <th>48817</th>\n",
       "      <td>2</td>\n",
       "      <td>0</td>\n",
       "      <td>4</td>\n",
       "      <td>0</td>\n",
       "      <td>2</td>\n",
       "      <td>2</td>\n",
       "      <td>4</td>\n",
       "      <td>1</td>\n",
       "      <td>3</td>\n",
       "      <td>5</td>\n",
       "      <td>1</td>\n",
       "    </tr>\n",
       "    <tr>\n",
       "      <th>48823</th>\n",
       "      <td>2</td>\n",
       "      <td>2</td>\n",
       "      <td>3</td>\n",
       "      <td>0</td>\n",
       "      <td>4</td>\n",
       "      <td>2</td>\n",
       "      <td>4</td>\n",
       "      <td>1</td>\n",
       "      <td>3</td>\n",
       "      <td>5</td>\n",
       "      <td>1</td>\n",
       "    </tr>\n",
       "    <tr>\n",
       "      <th>48827</th>\n",
       "      <td>3</td>\n",
       "      <td>0</td>\n",
       "      <td>4</td>\n",
       "      <td>0</td>\n",
       "      <td>4</td>\n",
       "      <td>2</td>\n",
       "      <td>4</td>\n",
       "      <td>0</td>\n",
       "      <td>2</td>\n",
       "      <td>5</td>\n",
       "      <td>1</td>\n",
       "    </tr>\n",
       "    <tr>\n",
       "      <th>48842</th>\n",
       "      <td>1</td>\n",
       "      <td>3</td>\n",
       "      <td>0</td>\n",
       "      <td>0</td>\n",
       "      <td>2</td>\n",
       "      <td>2</td>\n",
       "      <td>4</td>\n",
       "      <td>1</td>\n",
       "      <td>3</td>\n",
       "      <td>5</td>\n",
       "      <td>1</td>\n",
       "    </tr>\n",
       "  </tbody>\n",
       "</table>\n",
       "<p>26686 rows × 11 columns</p>\n",
       "</div>"
      ],
      "text/plain": [
       "       Age  Workclass  Education  Marital_Status  Occupation  Relationship  \\\n",
       "1        2          0          0               1           0             0   \n",
       "2        3          1          0               0           2             2   \n",
       "3        2          2          1               2           3             0   \n",
       "4        3          2          1               0           3             2   \n",
       "5        1          2          0               0           4             2   \n",
       "...    ...        ...        ...             ...         ...           ...   \n",
       "48816    2          2          4               0           4             2   \n",
       "48817    2          0          4               0           2             2   \n",
       "48823    2          2          3               0           4             2   \n",
       "48827    3          0          4               0           4             2   \n",
       "48842    1          3          0               0           2             2   \n",
       "\n",
       "       Race  Gender  Hour_Per_Week  Native  Income  \n",
       "1         4       1              2       5       0  \n",
       "2         4       1              0       5       0  \n",
       "3         4       1              2       5       0  \n",
       "4         2       1              2       5       0  \n",
       "5         2       0              2       0       0  \n",
       "...     ...     ...            ...     ...     ...  \n",
       "48816     4       1              3       5       1  \n",
       "48817     4       1              3       5       1  \n",
       "48823     4       1              3       5       1  \n",
       "48827     4       0              2       5       1  \n",
       "48842     4       1              3       5       1  \n",
       "\n",
       "[26686 rows x 11 columns]"
      ]
     },
     "execution_count": 32,
     "metadata": {},
     "output_type": "execute_result"
    }
   ],
   "source": [
    "dataf"
   ]
  },
  {
   "cell_type": "code",
   "execution_count": 33,
   "metadata": {},
   "outputs": [],
   "source": [
    "X = dataf[['Age', 'Workclass', 'Education', 'Marital_Status', 'Occupation', 'Relationship', 'Race', 'Gender', 'Hour_Per_Week', 'Native']]\n",
    "y = dataf['Income']"
   ]
  },
  {
   "cell_type": "code",
   "execution_count": 34,
   "metadata": {},
   "outputs": [],
   "source": [
    "# Split dataset into training set and test set\n",
    "X_train, X_test, y_train, y_test = train_test_split(X,y, test_size=0.3) # 70% training and 30% test"
   ]
  },
  {
   "cell_type": "markdown",
   "metadata": {},
   "source": [
    "## KNN"
   ]
  },
  {
   "cell_type": "code",
   "execution_count": 35,
   "metadata": {},
   "outputs": [
    {
     "name": "stdout",
     "output_type": "stream",
     "text": [
      "Acurácia =  0.763583775740455\n",
      "Precision =  0.7655822706466446\n",
      "Recall =  0.7514062594966623\n",
      "F1-Score =  0.7544730846780329\n"
     ]
    }
   ],
   "source": [
    "scoring = ['precision_macro', 'accuracy', 'f1_macro', 'recall_macro']\n",
    "#create a new KNN model\n",
    "knn_cv = KNeighborsClassifier(n_neighbors=23)\n",
    "#train model with cv of 10\n",
    "\n",
    "scores = cross_validate(knn_cv, X, y, cv=10, scoring=scoring)\n",
    "print('Acurácia = ', np.mean(scores['test_accuracy']))\n",
    "print('Precision = ', np.mean(scores['test_precision_macro']))\n",
    "print('Recall = ', np.mean(scores['test_recall_macro']))\n",
    "print('F1-Score = ', np.mean(scores['test_f1_macro']))"
   ]
  },
  {
   "cell_type": "markdown",
   "metadata": {},
   "source": [
    "## Logistic Regression"
   ]
  },
  {
   "cell_type": "code",
   "execution_count": 36,
   "metadata": {},
   "outputs": [
    {
     "name": "stdout",
     "output_type": "stream",
     "text": [
      "Acurácia =  0.7573263574282547\n",
      "Precision =  0.754275555278792\n",
      "Recall =  0.7568527504677534\n",
      "F1-Score =  0.7549568238339994\n"
     ]
    }
   ],
   "source": [
    "clf = LogisticRegression(random_state=7).fit(X, y)\n",
    "\n",
    "scores = cross_validate(clf, X, y, cv=10, scoring=scoring)\n",
    "print('Acurácia = ', np.mean(scores['test_accuracy']))\n",
    "print('Precision = ', np.mean(scores['test_precision_macro']))\n",
    "print('Recall = ', np.mean(scores['test_recall_macro']))\n",
    "print('F1-Score = ', np.mean(scores['test_f1_macro']))"
   ]
  },
  {
   "cell_type": "markdown",
   "metadata": {},
   "source": [
    "## Naive Bayes"
   ]
  },
  {
   "cell_type": "code",
   "execution_count": 37,
   "metadata": {},
   "outputs": [
    {
     "name": "stdout",
     "output_type": "stream",
     "text": [
      "Acurácia =  0.7450349478688907\n",
      "Precision =  0.7449678067591565\n",
      "Recall =  0.7487366345586713\n",
      "F1-Score =  0.7439963708949153\n"
     ]
    }
   ],
   "source": [
    "nr.seed(7)\n",
    "NB_credit = GaussianNB()\n",
    "scores = cross_validate(NB_credit, X, y, cv=10, scoring=scoring)\n",
    "print('Acurácia = ', np.mean(scores['test_accuracy']))\n",
    "print('Precision = ', np.mean(scores['test_precision_macro']))\n",
    "print('Recall = ', np.mean(scores['test_recall_macro']))\n",
    "print('F1-Score = ', np.mean(scores['test_f1_macro']))"
   ]
  },
  {
   "cell_type": "markdown",
   "metadata": {},
   "source": [
    "## Decision Tree"
   ]
  },
  {
   "cell_type": "code",
   "execution_count": 38,
   "metadata": {},
   "outputs": [
    {
     "name": "stdout",
     "output_type": "stream",
     "text": [
      "Acurácia =  0.7708537357398484\n",
      "Precision =  0.7674411474173507\n",
      "Recall =  0.7688299668764232\n",
      "F1-Score =  0.7679367851687403\n"
     ]
    }
   ],
   "source": [
    "tree_cv = tree.DecisionTreeClassifier()\n",
    "scores = cross_validate(tree_cv, X, y, cv=10, scoring=scoring)\n",
    "print('Acurácia = ', np.mean(scores['test_accuracy']))\n",
    "print('Precision = ', np.mean(scores['test_precision_macro']))\n",
    "print('Recall = ', np.mean(scores['test_recall_macro']))\n",
    "print('F1-Score = ', np.mean(scores['test_f1_macro']))"
   ]
  },
  {
   "cell_type": "markdown",
   "metadata": {},
   "source": [
    "## Random Forest"
   ]
  },
  {
   "cell_type": "code",
   "execution_count": 39,
   "metadata": {},
   "outputs": [
    {
     "name": "stdout",
     "output_type": "stream",
     "text": [
      "Acurácia =  0.913\n",
      "Precision =  0.9145410517327331\n",
      "Recall =  0.9129787915166068\n",
      "F1-Score =  0.9128605954657747\n"
     ]
    }
   ],
   "source": [
    "X, y = make_classification(n_samples=1000, n_features=4, n_informative=2, n_redundant=0, random_state=7, shuffle=False)\n",
    "random_cv = RandomForestClassifier(max_depth=2, random_state=0)\n",
    "\n",
    "scores = cross_validate(random_cv, X, y, cv=10, scoring=scoring)\n",
    "print('Acurácia = ', np.mean(scores['test_accuracy']))\n",
    "print('Precision = ', np.mean(scores['test_precision_macro']))\n",
    "print('Recall = ', np.mean(scores['test_recall_macro']))\n",
    "print('F1-Score = ', np.mean(scores['test_f1_macro']))"
   ]
  },
  {
   "cell_type": "markdown",
   "metadata": {},
   "source": [
    "## xgboost"
   ]
  },
  {
   "cell_type": "code",
   "execution_count": 40,
   "metadata": {},
   "outputs": [
    {
     "name": "stdout",
     "output_type": "stream",
     "text": [
      "Acurácia =  0.942\n",
      "Precision =  0.9451335438015619\n",
      "Recall =  0.9418767507002801\n",
      "F1-Score =  0.9417918570214179\n"
     ]
    }
   ],
   "source": [
    "xgb_cv = xgb.XGBClassifier(objective=\"binary:logistic\", random_state=42)\n",
    "scores = cross_validate(xgb_cv, X, y, cv=10, scoring=scoring)\n",
    "print('Acurácia = ', np.mean(scores['test_accuracy']))\n",
    "print('Precision = ', np.mean(scores['test_precision_macro']))\n",
    "print('Recall = ', np.mean(scores['test_recall_macro']))\n",
    "print('F1-Score = ', np.mean(scores['test_f1_macro']))"
   ]
  },
  {
   "cell_type": "markdown",
   "metadata": {},
   "source": [
    "\n",
    " ---------|   ACC    |   Prec   |  Recall  | F1-Score |\n",
    " --------------------------------------------------------------------\n",
    " ## KNN - | 76,36  | 76,55  |  75,14  |    75,44 |\n",
    " ## LR  --- | 75,73 |  75,43  |  75,69  |    75,50 |\n",
    " ## NB --- | 74,50 |  74,50  |  74,87  |    74,40 |\n",
    " ## DT ---  | 77,08 |  76,74  |  76,88  |   76,79  |\n",
    " ## RF ---  | 91,30 |  91,45  |  91,30  |   91,28  |\n",
    " ## XGB - |  94,20 |  94,51 |  94,19   |   94,18 |"
   ]
  }
 ],
 "metadata": {
  "kernelspec": {
   "display_name": "Python 3",
   "language": "python",
   "name": "python3"
  },
  "language_info": {
   "codemirror_mode": {
    "name": "ipython",
    "version": 3
   },
   "file_extension": ".py",
   "mimetype": "text/x-python",
   "name": "python",
   "nbconvert_exporter": "python",
   "pygments_lexer": "ipython3",
   "version": "3.7.6"
  }
 },
 "nbformat": 4,
 "nbformat_minor": 4
}
