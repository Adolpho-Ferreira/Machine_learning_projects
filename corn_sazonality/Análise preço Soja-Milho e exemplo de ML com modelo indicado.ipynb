{
 "cells": [
  {
   "cell_type": "markdown",
   "metadata": {},
   "source": [
    "# Importar Bibliotecas que serão utilizadas"
   ]
  },
  {
   "cell_type": "code",
   "execution_count": 1,
   "metadata": {},
   "outputs": [],
   "source": [
    "import xlsxwriter\n",
    "import pandas as pd\n",
    "import numpy as np\n",
    "import re\n",
    "from pandas import DataFrame\n",
    "\n",
    "import matplotlib.pyplot as plt\n",
    "plt.style.use('classic')\n",
    "%matplotlib inline\n",
    "\n",
    "import warnings\n",
    "from pandas_ui import *\n",
    "import sweetviz as sv\n",
    "\n",
    "import sklearn.metrics as metrics\n",
    "from sklearn.model_selection import train_test_split\n",
    "from imblearn.over_sampling import SMOTE\n",
    "from sklearn.ensemble import RandomForestClassifier\n",
    "from sklearn.metrics import recall_score\n",
    "from sklearn.metrics import accuracy_score\n",
    "from sklearn.metrics import precision_score\n",
    "from sklearn.metrics import recall_score\n",
    "from sklearn.metrics import f1_score\n",
    "from sklearn.metrics import roc_auc_score\n",
    "from sklearn.metrics import roc_curve\n",
    "from sklearn.metrics import classification_report"
   ]
  },
  {
   "cell_type": "markdown",
   "metadata": {},
   "source": [
    "# Fazer a leitura do arquivo dispensando as linhas do cabeçalho"
   ]
  },
  {
   "cell_type": "code",
   "execution_count": 2,
   "metadata": {},
   "outputs": [],
   "source": [
    "data = pd.read_excel('soja_milho.xlsx',sheet_name='precos', skiprows = 7)"
   ]
  },
  {
   "cell_type": "code",
   "execution_count": 3,
   "metadata": {},
   "outputs": [
    {
     "data": {
      "text/html": [
       "<div>\n",
       "<style scoped>\n",
       "    .dataframe tbody tr th:only-of-type {\n",
       "        vertical-align: middle;\n",
       "    }\n",
       "\n",
       "    .dataframe tbody tr th {\n",
       "        vertical-align: top;\n",
       "    }\n",
       "\n",
       "    .dataframe thead th {\n",
       "        text-align: right;\n",
       "    }\n",
       "</style>\n",
       "<table border=\"1\" class=\"dataframe\">\n",
       "  <thead>\n",
       "    <tr style=\"text-align: right;\">\n",
       "      <th></th>\n",
       "      <th>Observação</th>\n",
       "      <th>Data</th>\n",
       "      <th>Mês</th>\n",
       "      <th>Ano - Safra</th>\n",
       "      <th>Preços - Milho</th>\n",
       "      <th>Preços - Soja</th>\n",
       "    </tr>\n",
       "  </thead>\n",
       "  <tbody>\n",
       "    <tr>\n",
       "      <th>0</th>\n",
       "      <td>1</td>\n",
       "      <td>02/01/2014</td>\n",
       "      <td>1</td>\n",
       "      <td>2014</td>\n",
       "      <td>26.64</td>\n",
       "      <td>72.18</td>\n",
       "    </tr>\n",
       "    <tr>\n",
       "      <th>1</th>\n",
       "      <td>2</td>\n",
       "      <td>03/01/2014</td>\n",
       "      <td>1</td>\n",
       "      <td>2014</td>\n",
       "      <td>27.00</td>\n",
       "      <td>71.42</td>\n",
       "    </tr>\n",
       "    <tr>\n",
       "      <th>2</th>\n",
       "      <td>3</td>\n",
       "      <td>06/01/2014</td>\n",
       "      <td>1</td>\n",
       "      <td>2014</td>\n",
       "      <td>27.29</td>\n",
       "      <td>71.38</td>\n",
       "    </tr>\n",
       "    <tr>\n",
       "      <th>3</th>\n",
       "      <td>4</td>\n",
       "      <td>07/01/2014</td>\n",
       "      <td>1</td>\n",
       "      <td>2014</td>\n",
       "      <td>27.49</td>\n",
       "      <td>70.31</td>\n",
       "    </tr>\n",
       "    <tr>\n",
       "      <th>4</th>\n",
       "      <td>5</td>\n",
       "      <td>08/01/2014</td>\n",
       "      <td>1</td>\n",
       "      <td>2014</td>\n",
       "      <td>27.16</td>\n",
       "      <td>70.14</td>\n",
       "    </tr>\n",
       "    <tr>\n",
       "      <th>...</th>\n",
       "      <td>...</td>\n",
       "      <td>...</td>\n",
       "      <td>...</td>\n",
       "      <td>...</td>\n",
       "      <td>...</td>\n",
       "      <td>...</td>\n",
       "    </tr>\n",
       "    <tr>\n",
       "      <th>493</th>\n",
       "      <td>494</td>\n",
       "      <td>22/12/2015</td>\n",
       "      <td>12</td>\n",
       "      <td>2015</td>\n",
       "      <td>36.23</td>\n",
       "      <td>78.61</td>\n",
       "    </tr>\n",
       "    <tr>\n",
       "      <th>494</th>\n",
       "      <td>495</td>\n",
       "      <td>23/12/2015</td>\n",
       "      <td>12</td>\n",
       "      <td>2015</td>\n",
       "      <td>36.26</td>\n",
       "      <td>78.21</td>\n",
       "    </tr>\n",
       "    <tr>\n",
       "      <th>495</th>\n",
       "      <td>496</td>\n",
       "      <td>28/12/2015</td>\n",
       "      <td>12</td>\n",
       "      <td>2015</td>\n",
       "      <td>36.29</td>\n",
       "      <td>77.59</td>\n",
       "    </tr>\n",
       "    <tr>\n",
       "      <th>496</th>\n",
       "      <td>497</td>\n",
       "      <td>29/12/2015</td>\n",
       "      <td>12</td>\n",
       "      <td>2015</td>\n",
       "      <td>36.55</td>\n",
       "      <td>78.55</td>\n",
       "    </tr>\n",
       "    <tr>\n",
       "      <th>497</th>\n",
       "      <td>498</td>\n",
       "      <td>30/12/2015</td>\n",
       "      <td>12</td>\n",
       "      <td>2015</td>\n",
       "      <td>36.83</td>\n",
       "      <td>78.07</td>\n",
       "    </tr>\n",
       "  </tbody>\n",
       "</table>\n",
       "<p>498 rows × 6 columns</p>\n",
       "</div>"
      ],
      "text/plain": [
       "     Observação        Data  Mês  Ano - Safra  Preços - Milho  Preços - Soja\n",
       "0             1  02/01/2014    1         2014           26.64          72.18\n",
       "1             2  03/01/2014    1         2014           27.00          71.42\n",
       "2             3  06/01/2014    1         2014           27.29          71.38\n",
       "3             4  07/01/2014    1         2014           27.49          70.31\n",
       "4             5  08/01/2014    1         2014           27.16          70.14\n",
       "..          ...         ...  ...          ...             ...            ...\n",
       "493         494  22/12/2015   12         2015           36.23          78.61\n",
       "494         495  23/12/2015   12         2015           36.26          78.21\n",
       "495         496  28/12/2015   12         2015           36.29          77.59\n",
       "496         497  29/12/2015   12         2015           36.55          78.55\n",
       "497         498  30/12/2015   12         2015           36.83          78.07\n",
       "\n",
       "[498 rows x 6 columns]"
      ]
     },
     "execution_count": 3,
     "metadata": {},
     "output_type": "execute_result"
    }
   ],
   "source": [
    "data"
   ]
  },
  {
   "cell_type": "markdown",
   "metadata": {},
   "source": [
    "# Análise manual"
   ]
  },
  {
   "cell_type": "code",
   "execution_count": 4,
   "metadata": {},
   "outputs": [
    {
     "name": "stdout",
     "output_type": "stream",
     "text": [
      "<class 'pandas.core.frame.DataFrame'>\n",
      "RangeIndex: 498 entries, 0 to 497\n",
      "Data columns (total 6 columns):\n",
      " #   Column          Non-Null Count  Dtype  \n",
      "---  ------          --------------  -----  \n",
      " 0   Observação      498 non-null    int64  \n",
      " 1   Data            498 non-null    object \n",
      " 2   Mês             498 non-null    int64  \n",
      " 3   Ano - Safra     498 non-null    int64  \n",
      " 4   Preços - Milho  498 non-null    float64\n",
      " 5   Preços - Soja   498 non-null    float64\n",
      "dtypes: float64(2), int64(3), object(1)\n",
      "memory usage: 23.5+ KB\n"
     ]
    }
   ],
   "source": [
    "data.info()"
   ]
  },
  {
   "cell_type": "code",
   "execution_count": 5,
   "metadata": {},
   "outputs": [
    {
     "data": {
      "text/html": [
       "<div>\n",
       "<style scoped>\n",
       "    .dataframe tbody tr th:only-of-type {\n",
       "        vertical-align: middle;\n",
       "    }\n",
       "\n",
       "    .dataframe tbody tr th {\n",
       "        vertical-align: top;\n",
       "    }\n",
       "\n",
       "    .dataframe thead th {\n",
       "        text-align: right;\n",
       "    }\n",
       "</style>\n",
       "<table border=\"1\" class=\"dataframe\">\n",
       "  <thead>\n",
       "    <tr style=\"text-align: right;\">\n",
       "      <th></th>\n",
       "      <th>Observação</th>\n",
       "      <th>Data</th>\n",
       "      <th>Mês</th>\n",
       "      <th>Ano - Safra</th>\n",
       "      <th>Preços - Milho</th>\n",
       "      <th>Preços - Soja</th>\n",
       "    </tr>\n",
       "  </thead>\n",
       "  <tbody>\n",
       "    <tr>\n",
       "      <th>0</th>\n",
       "      <td>1</td>\n",
       "      <td>02/01/2014</td>\n",
       "      <td>1</td>\n",
       "      <td>2014</td>\n",
       "      <td>26.64</td>\n",
       "      <td>72.18</td>\n",
       "    </tr>\n",
       "    <tr>\n",
       "      <th>1</th>\n",
       "      <td>2</td>\n",
       "      <td>03/01/2014</td>\n",
       "      <td>1</td>\n",
       "      <td>2014</td>\n",
       "      <td>27.00</td>\n",
       "      <td>71.42</td>\n",
       "    </tr>\n",
       "    <tr>\n",
       "      <th>2</th>\n",
       "      <td>3</td>\n",
       "      <td>06/01/2014</td>\n",
       "      <td>1</td>\n",
       "      <td>2014</td>\n",
       "      <td>27.29</td>\n",
       "      <td>71.38</td>\n",
       "    </tr>\n",
       "    <tr>\n",
       "      <th>3</th>\n",
       "      <td>4</td>\n",
       "      <td>07/01/2014</td>\n",
       "      <td>1</td>\n",
       "      <td>2014</td>\n",
       "      <td>27.49</td>\n",
       "      <td>70.31</td>\n",
       "    </tr>\n",
       "    <tr>\n",
       "      <th>4</th>\n",
       "      <td>5</td>\n",
       "      <td>08/01/2014</td>\n",
       "      <td>1</td>\n",
       "      <td>2014</td>\n",
       "      <td>27.16</td>\n",
       "      <td>70.14</td>\n",
       "    </tr>\n",
       "  </tbody>\n",
       "</table>\n",
       "</div>"
      ],
      "text/plain": [
       "   Observação        Data  Mês  Ano - Safra  Preços - Milho  Preços - Soja\n",
       "0           1  02/01/2014    1         2014           26.64          72.18\n",
       "1           2  03/01/2014    1         2014           27.00          71.42\n",
       "2           3  06/01/2014    1         2014           27.29          71.38\n",
       "3           4  07/01/2014    1         2014           27.49          70.31\n",
       "4           5  08/01/2014    1         2014           27.16          70.14"
      ]
     },
     "execution_count": 5,
     "metadata": {},
     "output_type": "execute_result"
    }
   ],
   "source": [
    "data.head()"
   ]
  },
  {
   "cell_type": "code",
   "execution_count": 6,
   "metadata": {
    "scrolled": true
   },
   "outputs": [
    {
     "data": {
      "text/html": [
       "<div>\n",
       "<style scoped>\n",
       "    .dataframe tbody tr th:only-of-type {\n",
       "        vertical-align: middle;\n",
       "    }\n",
       "\n",
       "    .dataframe tbody tr th {\n",
       "        vertical-align: top;\n",
       "    }\n",
       "\n",
       "    .dataframe thead th {\n",
       "        text-align: right;\n",
       "    }\n",
       "</style>\n",
       "<table border=\"1\" class=\"dataframe\">\n",
       "  <thead>\n",
       "    <tr style=\"text-align: right;\">\n",
       "      <th></th>\n",
       "      <th>Observação</th>\n",
       "      <th>Mês</th>\n",
       "      <th>Ano - Safra</th>\n",
       "      <th>Preços - Milho</th>\n",
       "      <th>Preços - Soja</th>\n",
       "    </tr>\n",
       "  </thead>\n",
       "  <tbody>\n",
       "    <tr>\n",
       "      <th>count</th>\n",
       "      <td>498.000000</td>\n",
       "      <td>498.000000</td>\n",
       "      <td>498.000000</td>\n",
       "      <td>498.000000</td>\n",
       "      <td>498.000000</td>\n",
       "    </tr>\n",
       "    <tr>\n",
       "      <th>mean</th>\n",
       "      <td>249.500000</td>\n",
       "      <td>6.528112</td>\n",
       "      <td>2014.497992</td>\n",
       "      <td>27.955080</td>\n",
       "      <td>66.498273</td>\n",
       "    </tr>\n",
       "    <tr>\n",
       "      <th>std</th>\n",
       "      <td>143.904482</td>\n",
       "      <td>3.433211</td>\n",
       "      <td>0.500499</td>\n",
       "      <td>3.563466</td>\n",
       "      <td>5.804226</td>\n",
       "    </tr>\n",
       "    <tr>\n",
       "      <th>min</th>\n",
       "      <td>1.000000</td>\n",
       "      <td>1.000000</td>\n",
       "      <td>2014.000000</td>\n",
       "      <td>21.760000</td>\n",
       "      <td>56.740000</td>\n",
       "    </tr>\n",
       "    <tr>\n",
       "      <th>25%</th>\n",
       "      <td>125.250000</td>\n",
       "      <td>4.000000</td>\n",
       "      <td>2014.000000</td>\n",
       "      <td>25.510000</td>\n",
       "      <td>62.302500</td>\n",
       "    </tr>\n",
       "    <tr>\n",
       "      <th>50%</th>\n",
       "      <td>249.500000</td>\n",
       "      <td>7.000000</td>\n",
       "      <td>2014.000000</td>\n",
       "      <td>27.535000</td>\n",
       "      <td>65.165000</td>\n",
       "    </tr>\n",
       "    <tr>\n",
       "      <th>75%</th>\n",
       "      <td>373.750000</td>\n",
       "      <td>9.000000</td>\n",
       "      <td>2015.000000</td>\n",
       "      <td>30.320000</td>\n",
       "      <td>69.187500</td>\n",
       "    </tr>\n",
       "    <tr>\n",
       "      <th>max</th>\n",
       "      <td>498.000000</td>\n",
       "      <td>12.000000</td>\n",
       "      <td>2015.000000</td>\n",
       "      <td>36.830000</td>\n",
       "      <td>79.860000</td>\n",
       "    </tr>\n",
       "  </tbody>\n",
       "</table>\n",
       "</div>"
      ],
      "text/plain": [
       "       Observação         Mês  Ano - Safra  Preços - Milho  Preços - Soja\n",
       "count  498.000000  498.000000   498.000000      498.000000     498.000000\n",
       "mean   249.500000    6.528112  2014.497992       27.955080      66.498273\n",
       "std    143.904482    3.433211     0.500499        3.563466       5.804226\n",
       "min      1.000000    1.000000  2014.000000       21.760000      56.740000\n",
       "25%    125.250000    4.000000  2014.000000       25.510000      62.302500\n",
       "50%    249.500000    7.000000  2014.000000       27.535000      65.165000\n",
       "75%    373.750000    9.000000  2015.000000       30.320000      69.187500\n",
       "max    498.000000   12.000000  2015.000000       36.830000      79.860000"
      ]
     },
     "execution_count": 6,
     "metadata": {},
     "output_type": "execute_result"
    }
   ],
   "source": [
    "data.describe()"
   ]
  },
  {
   "cell_type": "code",
   "execution_count": 7,
   "metadata": {},
   "outputs": [
    {
     "data": {
      "text/html": [
       "<div>\n",
       "<style scoped>\n",
       "    .dataframe tbody tr th:only-of-type {\n",
       "        vertical-align: middle;\n",
       "    }\n",
       "\n",
       "    .dataframe tbody tr th {\n",
       "        vertical-align: top;\n",
       "    }\n",
       "\n",
       "    .dataframe thead th {\n",
       "        text-align: right;\n",
       "    }\n",
       "</style>\n",
       "<table border=\"1\" class=\"dataframe\">\n",
       "  <thead>\n",
       "    <tr style=\"text-align: right;\">\n",
       "      <th></th>\n",
       "      <th>Observação</th>\n",
       "      <th>Data</th>\n",
       "      <th>Mês</th>\n",
       "      <th>Ano - Safra</th>\n",
       "      <th>Preços - Milho</th>\n",
       "      <th>Preços - Soja</th>\n",
       "    </tr>\n",
       "  </thead>\n",
       "  <tbody>\n",
       "    <tr>\n",
       "      <th>0</th>\n",
       "      <td>1</td>\n",
       "      <td>01/04/2014</td>\n",
       "      <td>7.0</td>\n",
       "      <td>2014.0</td>\n",
       "      <td>25.16</td>\n",
       "      <td>62.02</td>\n",
       "    </tr>\n",
       "    <tr>\n",
       "      <th>1</th>\n",
       "      <td>2</td>\n",
       "      <td>01/04/2015</td>\n",
       "      <td>NaN</td>\n",
       "      <td>NaN</td>\n",
       "      <td>27.60</td>\n",
       "      <td>62.29</td>\n",
       "    </tr>\n",
       "    <tr>\n",
       "      <th>2</th>\n",
       "      <td>3</td>\n",
       "      <td>01/06/2015</td>\n",
       "      <td>NaN</td>\n",
       "      <td>NaN</td>\n",
       "      <td>33.82</td>\n",
       "      <td>67.52</td>\n",
       "    </tr>\n",
       "    <tr>\n",
       "      <th>3</th>\n",
       "      <td>4</td>\n",
       "      <td>01/07/2014</td>\n",
       "      <td>NaN</td>\n",
       "      <td>NaN</td>\n",
       "      <td>NaN</td>\n",
       "      <td>NaN</td>\n",
       "    </tr>\n",
       "    <tr>\n",
       "      <th>4</th>\n",
       "      <td>5</td>\n",
       "      <td>01/07/2015</td>\n",
       "      <td>NaN</td>\n",
       "      <td>NaN</td>\n",
       "      <td>NaN</td>\n",
       "      <td>NaN</td>\n",
       "    </tr>\n",
       "    <tr>\n",
       "      <th>...</th>\n",
       "      <td>...</td>\n",
       "      <td>...</td>\n",
       "      <td>...</td>\n",
       "      <td>...</td>\n",
       "      <td>...</td>\n",
       "      <td>...</td>\n",
       "    </tr>\n",
       "    <tr>\n",
       "      <th>493</th>\n",
       "      <td>494</td>\n",
       "      <td>31/03/2015</td>\n",
       "      <td>NaN</td>\n",
       "      <td>NaN</td>\n",
       "      <td>NaN</td>\n",
       "      <td>NaN</td>\n",
       "    </tr>\n",
       "    <tr>\n",
       "      <th>494</th>\n",
       "      <td>495</td>\n",
       "      <td>31/07/2014</td>\n",
       "      <td>NaN</td>\n",
       "      <td>NaN</td>\n",
       "      <td>NaN</td>\n",
       "      <td>NaN</td>\n",
       "    </tr>\n",
       "    <tr>\n",
       "      <th>495</th>\n",
       "      <td>496</td>\n",
       "      <td>31/07/2015</td>\n",
       "      <td>NaN</td>\n",
       "      <td>NaN</td>\n",
       "      <td>NaN</td>\n",
       "      <td>NaN</td>\n",
       "    </tr>\n",
       "    <tr>\n",
       "      <th>496</th>\n",
       "      <td>497</td>\n",
       "      <td>31/08/2015</td>\n",
       "      <td>NaN</td>\n",
       "      <td>NaN</td>\n",
       "      <td>NaN</td>\n",
       "      <td>NaN</td>\n",
       "    </tr>\n",
       "    <tr>\n",
       "      <th>497</th>\n",
       "      <td>498</td>\n",
       "      <td>31/10/2014</td>\n",
       "      <td>NaN</td>\n",
       "      <td>NaN</td>\n",
       "      <td>NaN</td>\n",
       "      <td>NaN</td>\n",
       "    </tr>\n",
       "  </tbody>\n",
       "</table>\n",
       "<p>498 rows × 6 columns</p>\n",
       "</div>"
      ],
      "text/plain": [
       "     Observação        Data  Mês  Ano - Safra  Preços - Milho  Preços - Soja\n",
       "0             1  01/04/2014  7.0       2014.0           25.16          62.02\n",
       "1             2  01/04/2015  NaN          NaN           27.60          62.29\n",
       "2             3  01/06/2015  NaN          NaN           33.82          67.52\n",
       "3             4  01/07/2014  NaN          NaN             NaN            NaN\n",
       "4             5  01/07/2015  NaN          NaN             NaN            NaN\n",
       "..          ...         ...  ...          ...             ...            ...\n",
       "493         494  31/03/2015  NaN          NaN             NaN            NaN\n",
       "494         495  31/07/2014  NaN          NaN             NaN            NaN\n",
       "495         496  31/07/2015  NaN          NaN             NaN            NaN\n",
       "496         497  31/08/2015  NaN          NaN             NaN            NaN\n",
       "497         498  31/10/2014  NaN          NaN             NaN            NaN\n",
       "\n",
       "[498 rows x 6 columns]"
      ]
     },
     "execution_count": 7,
     "metadata": {},
     "output_type": "execute_result"
    }
   ],
   "source": [
    "data.mode()"
   ]
  },
  {
   "cell_type": "markdown",
   "metadata": {},
   "source": [
    "     Observação      Qualitativo  \n",
    "     Data            Qualitativo \n",
    "     Mês             Qualitativo \n",
    "     Ano - Safra     Qualitativo \n",
    "     Preços - Milho  Quantitativo Contínuo\n",
    "     Preços - Soja   Quantitativo Contínuo\n",
    "\n",
    "  \n",
    "                          Qualitativo           Qualitativo Qualitativo     Quantitativo Contínui\n",
    "                          Observação         \tMês      \tAno - Safra    Preços - Milho   Preços - Soja\n",
    "         Média =    \t  249.500000 \t        6.528112    2014.497992     27.955080        66.498273\n",
    "        Mediana =         249.500000         \t7.000000\t2014.000000 \t27.535000    \t65.165000\n",
    "         Moda =                                  7.0         2014.0          33.82        \t67.52\n",
    "     Quartis  \n",
    "          25% =           125.250000 \t        4.000000 \t2014.000000 \t25.510000   \t62.302500\n",
    "          50% =\t       249.500000             7.000000 \t2014.000000 \t27.535000   \t65.165000\n",
    "          75% = \t      373.750000         \t9.000000 \t2015.000000 \t30.320000   \t69.187500\n",
    "          max =           498.000000 \t        12.000000    2015.000000     36.830000       79.860000\n"
   ]
  },
  {
   "cell_type": "code",
   "execution_count": 8,
   "metadata": {},
   "outputs": [],
   "source": [
    "boxplot = data.boxplot(column=['Preços - Milho',   'Preços - Soja'])"
   ]
  },
  {
   "cell_type": "markdown",
   "metadata": {},
   "source": [
    "# Não foi encontrado outlines"
   ]
  },
  {
   "cell_type": "code",
   "execution_count": 9,
   "metadata": {},
   "outputs": [
    {
     "name": "stderr",
     "output_type": "stream",
     "text": [
      "/home/adolpho/anaconda3/lib/python3.7/site-packages/ipykernel_launcher.py:5: UserWarning: Matplotlib is currently using agg, which is a non-GUI backend, so cannot show the figure.\n",
      "  \"\"\"\n"
     ]
    }
   ],
   "source": [
    "plt.scatter(data['Preços - Milho'], data['Preços - Soja'])\n",
    "plt.title('Scatterplot da correlação Milho - Soja')\n",
    "plt.xlabel('Preço - Milho')\n",
    "plt.ylabel('Preço- Soja')\n",
    "plt.show()"
   ]
  },
  {
   "cell_type": "markdown",
   "metadata": {},
   "source": [
    "# Análise utilizando Biblioteca especializada"
   ]
  },
  {
   "cell_type": "markdown",
   "metadata": {},
   "source": [
    "# Necessário trabalhar com o CSV deste arquivo no Pandas_UI"
   ]
  },
  {
   "cell_type": "code",
   "execution_count": 10,
   "metadata": {},
   "outputs": [],
   "source": [
    "data.to_csv('Soja-Milho.csv')"
   ]
  },
  {
   "cell_type": "code",
   "execution_count": 11,
   "metadata": {},
   "outputs": [
    {
     "data": {
      "application/vnd.jupyter.widget-view+json": {
       "model_id": "e13f0d8c37ca44da9b4d5e2926a0ec0b",
       "version_major": 2,
       "version_minor": 0
      },
      "text/plain": [
       "Tab(children=(Output(), Output(), Output(), Output()), _titles={'0': 'DataFrame', '1': 'PandasProfoling', '2':…"
      ]
     },
     "metadata": {},
     "output_type": "display_data"
    }
   ],
   "source": [
    "pandas_ui('Soja-Milho.csv')"
   ]
  },
  {
   "cell_type": "markdown",
   "metadata": {},
   "source": [
    "# Sweetviz é outra biblioteca especializada para análise que produz um bom report"
   ]
  },
  {
   "cell_type": "code",
   "execution_count": 12,
   "metadata": {},
   "outputs": [
    {
     "name": "stderr",
     "output_type": "stream",
     "text": [
      ":FEATURES DONE:                    |█████████████████████| [100%]   00:16  -> (00:00 left)\n",
      ":PAIRWISE DONE:                    |█████████████████████| [100%]   00:00  -> (00:00 left)\n"
     ]
    },
    {
     "name": "stdout",
     "output_type": "stream",
     "text": [
      "Creating Associations graph... DONE!\n"
     ]
    }
   ],
   "source": [
    "sweetviz_report = sv.analyze([data,'data'],target_feat='Preços - Milho')"
   ]
  },
  {
   "cell_type": "code",
   "execution_count": 13,
   "metadata": {},
   "outputs": [
    {
     "name": "stdout",
     "output_type": "stream",
     "text": [
      "Report viz.html was generated! NOTEBOOK/COLAB USERS: no browser will pop up, the report is saved in your notebook/colab files.\n"
     ]
    }
   ],
   "source": [
    "sweetviz_report.show_html('viz.html')"
   ]
  },
  {
   "cell_type": "code",
   "execution_count": 14,
   "metadata": {},
   "outputs": [
    {
     "name": "stderr",
     "output_type": "stream",
     "text": [
      ":FEATURES DONE:                    |█████████████████████| [100%]   00:16  -> (00:00 left)\n",
      ":PAIRWISE DONE:                    |█████████████████████| [100%]   00:00  -> (00:00 left)\n"
     ]
    },
    {
     "name": "stdout",
     "output_type": "stream",
     "text": [
      "Creating Associations graph... DONE!\n"
     ]
    }
   ],
   "source": [
    "sweetviz_report = sv.analyze([data,'data'],target_feat='Preços - Soja')"
   ]
  },
  {
   "cell_type": "code",
   "execution_count": 15,
   "metadata": {},
   "outputs": [
    {
     "name": "stdout",
     "output_type": "stream",
     "text": [
      "Report viz.html was generated! NOTEBOOK/COLAB USERS: no browser will pop up, the report is saved in your notebook/colab files.\n"
     ]
    }
   ],
   "source": [
    "sweetviz_report.show_html('viz.html')"
   ]
  },
  {
   "cell_type": "markdown",
   "metadata": {},
   "source": [
    "# Podemos visualizar bem a correlação dos preços"
   ]
  },
  {
   "cell_type": "code",
   "execution_count": 16,
   "metadata": {},
   "outputs": [
    {
     "name": "stdout",
     "output_type": "stream",
     "text": [
      "A matriz correlação de milho e soja é:\n",
      "\n",
      " [[1.         0.74909511]\n",
      " [0.74909511 1.        ]]\n"
     ]
    }
   ],
   "source": [
    "a = np.corrcoef(data['Preços - Milho'], data['Preços - Soja'])\n",
    "print('A matriz correlação de milho e soja é:\\n\\n', a)"
   ]
  },
  {
   "cell_type": "code",
   "execution_count": 17,
   "metadata": {},
   "outputs": [
    {
     "name": "stdout",
     "output_type": "stream",
     "text": [
      "A correlação de milho e soja é:  0.749095112208888\n"
     ]
    }
   ],
   "source": [
    "print('A correlação de milho e soja é: ', a[0,1])"
   ]
  },
  {
   "cell_type": "code",
   "execution_count": 18,
   "metadata": {},
   "outputs": [
    {
     "name": "stdout",
     "output_type": "stream",
     "text": [
      "A matriz correlação de toda a planilha é:\n",
      "\n",
      "                 Observação       Mês  Ano - Safra  Preços - Milho  \\\n",
      "Observação        1.000000  0.496192     0.866020        0.295683   \n",
      "Mês               0.496192  1.000000    -0.002309        0.054193   \n",
      "Ano - Safra       0.866020 -0.002309     1.000000        0.305910   \n",
      "Preços - Milho    0.295683  0.054193     0.305910        1.000000   \n",
      "Preços - Soja     0.432048  0.316132     0.315516        0.749095   \n",
      "\n",
      "                Preços - Soja  \n",
      "Observação           0.432048  \n",
      "Mês                  0.316132  \n",
      "Ano - Safra          0.315516  \n",
      "Preços - Milho       0.749095  \n",
      "Preços - Soja        1.000000  \n"
     ]
    }
   ],
   "source": [
    "print('A matriz correlação de toda a planilha é:\\n\\n', data.corr())"
   ]
  },
  {
   "cell_type": "code",
   "execution_count": 19,
   "metadata": {},
   "outputs": [
    {
     "name": "stdout",
     "output_type": "stream",
     "text": [
      "A matriz de covariância é:\n",
      "\n",
      " [[12.69829305 15.49365789]\n",
      " [15.49365789 33.68904128]]\n"
     ]
    }
   ],
   "source": [
    "b = np.cov(data['Preços - Milho'], data['Preços - Soja'])\n",
    "print('A matriz de covariância é:\\n\\n', b)"
   ]
  },
  {
   "cell_type": "code",
   "execution_count": 20,
   "metadata": {},
   "outputs": [
    {
     "name": "stdout",
     "output_type": "stream",
     "text": [
      "A covariância de milho e soja é:  15.493657885465405\n"
     ]
    }
   ],
   "source": [
    "print('A covariância de milho e soja é: ',b[0,1])"
   ]
  },
  {
   "cell_type": "markdown",
   "metadata": {},
   "source": [
    "### Analisando a covariância vemos uma relação diretamente proporcional entre o milho e a soja com o valor positivo, e a covariância percebemos uma corelação forte entre o milho e a soja, sendo necessário o valor estar entre 0.7 e 0.89 para a correlação forte."
   ]
  },
  {
   "cell_type": "markdown",
   "metadata": {},
   "source": [
    "### Analisando os dois reports com target diferente, vemos o comportamento semelhante em relação ao ano - safra devido a sua correlação antes já percebida"
   ]
  },
  {
   "cell_type": "markdown",
   "metadata": {},
   "source": [
    "# Construir um classificador que se enquadre perfeitamente a uma função"
   ]
  },
  {
   "cell_type": "markdown",
   "metadata": {},
   "source": [
    "### Criar a Coluna Y com os valores reais do classificador. Os valores reais corresponderão as seguintes regras\n",
    "\n",
    "- Caso ((ano é 2014) E (preço ≥ 67,00 reais) Então é Colheita)\n",
    "- Caso ((ano é 2015) E (58,00 reais ≤ preço≤ 62,00 reais ) Então é Colheita)\n",
    "- Caso contrário é Plantio."
   ]
  },
  {
   "cell_type": "code",
   "execution_count": 21,
   "metadata": {},
   "outputs": [],
   "source": [
    "data = data.rename(columns={'Mês': 'Mes',\n",
    "                            'Ano - Safra': 'AnoSafra',\n",
    "                            'Preços - Milho':'PreçosMilho',\n",
    "                            'Preços - Soja': 'PreçosSoja'}, inplace = False)\n",
    "data['Y'] = 0"
   ]
  },
  {
   "cell_type": "code",
   "execution_count": 22,
   "metadata": {},
   "outputs": [
    {
     "data": {
      "text/html": [
       "<div>\n",
       "<style scoped>\n",
       "    .dataframe tbody tr th:only-of-type {\n",
       "        vertical-align: middle;\n",
       "    }\n",
       "\n",
       "    .dataframe tbody tr th {\n",
       "        vertical-align: top;\n",
       "    }\n",
       "\n",
       "    .dataframe thead th {\n",
       "        text-align: right;\n",
       "    }\n",
       "</style>\n",
       "<table border=\"1\" class=\"dataframe\">\n",
       "  <thead>\n",
       "    <tr style=\"text-align: right;\">\n",
       "      <th></th>\n",
       "      <th>Observação</th>\n",
       "      <th>Data</th>\n",
       "      <th>Mes</th>\n",
       "      <th>AnoSafra</th>\n",
       "      <th>PreçosMilho</th>\n",
       "      <th>PreçosSoja</th>\n",
       "      <th>Y</th>\n",
       "    </tr>\n",
       "  </thead>\n",
       "  <tbody>\n",
       "    <tr>\n",
       "      <th>0</th>\n",
       "      <td>1</td>\n",
       "      <td>02/01/2014</td>\n",
       "      <td>1</td>\n",
       "      <td>2014</td>\n",
       "      <td>26.64</td>\n",
       "      <td>72.18</td>\n",
       "      <td>0</td>\n",
       "    </tr>\n",
       "    <tr>\n",
       "      <th>1</th>\n",
       "      <td>2</td>\n",
       "      <td>03/01/2014</td>\n",
       "      <td>1</td>\n",
       "      <td>2014</td>\n",
       "      <td>27.00</td>\n",
       "      <td>71.42</td>\n",
       "      <td>0</td>\n",
       "    </tr>\n",
       "    <tr>\n",
       "      <th>2</th>\n",
       "      <td>3</td>\n",
       "      <td>06/01/2014</td>\n",
       "      <td>1</td>\n",
       "      <td>2014</td>\n",
       "      <td>27.29</td>\n",
       "      <td>71.38</td>\n",
       "      <td>0</td>\n",
       "    </tr>\n",
       "    <tr>\n",
       "      <th>3</th>\n",
       "      <td>4</td>\n",
       "      <td>07/01/2014</td>\n",
       "      <td>1</td>\n",
       "      <td>2014</td>\n",
       "      <td>27.49</td>\n",
       "      <td>70.31</td>\n",
       "      <td>0</td>\n",
       "    </tr>\n",
       "    <tr>\n",
       "      <th>4</th>\n",
       "      <td>5</td>\n",
       "      <td>08/01/2014</td>\n",
       "      <td>1</td>\n",
       "      <td>2014</td>\n",
       "      <td>27.16</td>\n",
       "      <td>70.14</td>\n",
       "      <td>0</td>\n",
       "    </tr>\n",
       "  </tbody>\n",
       "</table>\n",
       "</div>"
      ],
      "text/plain": [
       "   Observação        Data  Mes  AnoSafra  PreçosMilho  PreçosSoja  Y\n",
       "0           1  02/01/2014    1      2014        26.64       72.18  0\n",
       "1           2  03/01/2014    1      2014        27.00       71.42  0\n",
       "2           3  06/01/2014    1      2014        27.29       71.38  0\n",
       "3           4  07/01/2014    1      2014        27.49       70.31  0\n",
       "4           5  08/01/2014    1      2014        27.16       70.14  0"
      ]
     },
     "execution_count": 22,
     "metadata": {},
     "output_type": "execute_result"
    }
   ],
   "source": [
    "data.head()"
   ]
  },
  {
   "cell_type": "code",
   "execution_count": 23,
   "metadata": {},
   "outputs": [
    {
     "name": "stderr",
     "output_type": "stream",
     "text": [
      "/home/adolpho/anaconda3/lib/python3.7/site-packages/ipykernel_launcher.py:4: SettingWithCopyWarning: \n",
      "A value is trying to be set on a copy of a slice from a DataFrame\n",
      "\n",
      "See the caveats in the documentation: https://pandas.pydata.org/pandas-docs/stable/user_guide/indexing.html#returning-a-view-versus-a-copy\n",
      "  after removing the cwd from sys.path.\n",
      "/home/adolpho/anaconda3/lib/python3.7/site-packages/ipykernel_launcher.py:9: SettingWithCopyWarning: \n",
      "A value is trying to be set on a copy of a slice from a DataFrame\n",
      "\n",
      "See the caveats in the documentation: https://pandas.pydata.org/pandas-docs/stable/user_guide/indexing.html#returning-a-view-versus-a-copy\n",
      "  if __name__ == '__main__':\n",
      "/home/adolpho/anaconda3/lib/python3.7/site-packages/ipykernel_launcher.py:11: SettingWithCopyWarning: \n",
      "A value is trying to be set on a copy of a slice from a DataFrame\n",
      "\n",
      "See the caveats in the documentation: https://pandas.pydata.org/pandas-docs/stable/user_guide/indexing.html#returning-a-view-versus-a-copy\n",
      "  # This is added back by InteractiveShellApp.init_path()\n",
      "/home/adolpho/anaconda3/lib/python3.7/site-packages/ipykernel_launcher.py:7: SettingWithCopyWarning: \n",
      "A value is trying to be set on a copy of a slice from a DataFrame\n",
      "\n",
      "See the caveats in the documentation: https://pandas.pydata.org/pandas-docs/stable/user_guide/indexing.html#returning-a-view-versus-a-copy\n",
      "  import sys\n"
     ]
    }
   ],
   "source": [
    "for i in data.itertuples():\n",
    "    if(i.Mes <=5):\n",
    "        if (i.AnoSafra == 2014 and i.PreçosSoja >= float (67.00)):\n",
    "            data.Y[i.Index] = 1\n",
    "        else:\n",
    "            if (i.AnoSafra == 2015 and float (58.00) <= i.PreçosSoja <= float (62.00)):\n",
    "                data.Y[i.Index] = 1\n",
    "            else:\n",
    "                data.Y[i.Index] = 0\n",
    "    else:\n",
    "        data.Y[i.Index] = 0\n",
    "        \n",
    "warnings.filterwarnings('ignore')"
   ]
  },
  {
   "cell_type": "code",
   "execution_count": 24,
   "metadata": {},
   "outputs": [
    {
     "data": {
      "text/html": [
       "<div>\n",
       "<style scoped>\n",
       "    .dataframe tbody tr th:only-of-type {\n",
       "        vertical-align: middle;\n",
       "    }\n",
       "\n",
       "    .dataframe tbody tr th {\n",
       "        vertical-align: top;\n",
       "    }\n",
       "\n",
       "    .dataframe thead th {\n",
       "        text-align: right;\n",
       "    }\n",
       "</style>\n",
       "<table border=\"1\" class=\"dataframe\">\n",
       "  <thead>\n",
       "    <tr style=\"text-align: right;\">\n",
       "      <th></th>\n",
       "      <th>Observação</th>\n",
       "      <th>Mes</th>\n",
       "      <th>AnoSafra</th>\n",
       "      <th>PreçosMilho</th>\n",
       "      <th>PreçosSoja</th>\n",
       "      <th>Y</th>\n",
       "    </tr>\n",
       "  </thead>\n",
       "  <tbody>\n",
       "    <tr>\n",
       "      <th>count</th>\n",
       "      <td>498.000000</td>\n",
       "      <td>498.000000</td>\n",
       "      <td>498.000000</td>\n",
       "      <td>498.000000</td>\n",
       "      <td>498.000000</td>\n",
       "      <td>498.000000</td>\n",
       "    </tr>\n",
       "    <tr>\n",
       "      <th>mean</th>\n",
       "      <td>249.500000</td>\n",
       "      <td>6.528112</td>\n",
       "      <td>2014.497992</td>\n",
       "      <td>27.955080</td>\n",
       "      <td>66.498273</td>\n",
       "      <td>0.238956</td>\n",
       "    </tr>\n",
       "    <tr>\n",
       "      <th>std</th>\n",
       "      <td>143.904482</td>\n",
       "      <td>3.433211</td>\n",
       "      <td>0.500499</td>\n",
       "      <td>3.563466</td>\n",
       "      <td>5.804226</td>\n",
       "      <td>0.426875</td>\n",
       "    </tr>\n",
       "    <tr>\n",
       "      <th>min</th>\n",
       "      <td>1.000000</td>\n",
       "      <td>1.000000</td>\n",
       "      <td>2014.000000</td>\n",
       "      <td>21.760000</td>\n",
       "      <td>56.740000</td>\n",
       "      <td>0.000000</td>\n",
       "    </tr>\n",
       "    <tr>\n",
       "      <th>25%</th>\n",
       "      <td>125.250000</td>\n",
       "      <td>4.000000</td>\n",
       "      <td>2014.000000</td>\n",
       "      <td>25.510000</td>\n",
       "      <td>62.302500</td>\n",
       "      <td>0.000000</td>\n",
       "    </tr>\n",
       "    <tr>\n",
       "      <th>50%</th>\n",
       "      <td>249.500000</td>\n",
       "      <td>7.000000</td>\n",
       "      <td>2014.000000</td>\n",
       "      <td>27.535000</td>\n",
       "      <td>65.165000</td>\n",
       "      <td>0.000000</td>\n",
       "    </tr>\n",
       "    <tr>\n",
       "      <th>75%</th>\n",
       "      <td>373.750000</td>\n",
       "      <td>9.000000</td>\n",
       "      <td>2015.000000</td>\n",
       "      <td>30.320000</td>\n",
       "      <td>69.187500</td>\n",
       "      <td>0.000000</td>\n",
       "    </tr>\n",
       "    <tr>\n",
       "      <th>max</th>\n",
       "      <td>498.000000</td>\n",
       "      <td>12.000000</td>\n",
       "      <td>2015.000000</td>\n",
       "      <td>36.830000</td>\n",
       "      <td>79.860000</td>\n",
       "      <td>1.000000</td>\n",
       "    </tr>\n",
       "  </tbody>\n",
       "</table>\n",
       "</div>"
      ],
      "text/plain": [
       "       Observação         Mes     AnoSafra  PreçosMilho  PreçosSoja  \\\n",
       "count  498.000000  498.000000   498.000000   498.000000  498.000000   \n",
       "mean   249.500000    6.528112  2014.497992    27.955080   66.498273   \n",
       "std    143.904482    3.433211     0.500499     3.563466    5.804226   \n",
       "min      1.000000    1.000000  2014.000000    21.760000   56.740000   \n",
       "25%    125.250000    4.000000  2014.000000    25.510000   62.302500   \n",
       "50%    249.500000    7.000000  2014.000000    27.535000   65.165000   \n",
       "75%    373.750000    9.000000  2015.000000    30.320000   69.187500   \n",
       "max    498.000000   12.000000  2015.000000    36.830000   79.860000   \n",
       "\n",
       "                Y  \n",
       "count  498.000000  \n",
       "mean     0.238956  \n",
       "std      0.426875  \n",
       "min      0.000000  \n",
       "25%      0.000000  \n",
       "50%      0.000000  \n",
       "75%      0.000000  \n",
       "max      1.000000  "
      ]
     },
     "execution_count": 24,
     "metadata": {},
     "output_type": "execute_result"
    }
   ],
   "source": [
    "data.describe()"
   ]
  },
  {
   "cell_type": "markdown",
   "metadata": {},
   "source": [
    "## A maioria dos valores de y, 76,11%, correspondem ao valor 0, que é plantio"
   ]
  },
  {
   "cell_type": "code",
   "execution_count": 25,
   "metadata": {},
   "outputs": [],
   "source": [
    "plantio_index = (data['Y'] == 0)\n",
    "colheita_index = (data['Y'] == 1)\n",
    "plantio = data[plantio_index]\n",
    "colheita = data[colheita_index]"
   ]
  },
  {
   "cell_type": "code",
   "execution_count": 26,
   "metadata": {},
   "outputs": [
    {
     "data": {
      "text/html": [
       "<div>\n",
       "<style scoped>\n",
       "    .dataframe tbody tr th:only-of-type {\n",
       "        vertical-align: middle;\n",
       "    }\n",
       "\n",
       "    .dataframe tbody tr th {\n",
       "        vertical-align: top;\n",
       "    }\n",
       "\n",
       "    .dataframe thead th {\n",
       "        text-align: right;\n",
       "    }\n",
       "</style>\n",
       "<table border=\"1\" class=\"dataframe\">\n",
       "  <thead>\n",
       "    <tr style=\"text-align: right;\">\n",
       "      <th></th>\n",
       "      <th>Observação</th>\n",
       "      <th>Mes</th>\n",
       "      <th>AnoSafra</th>\n",
       "      <th>PreçosMilho</th>\n",
       "      <th>PreçosSoja</th>\n",
       "      <th>Y</th>\n",
       "    </tr>\n",
       "  </thead>\n",
       "  <tbody>\n",
       "    <tr>\n",
       "      <th>count</th>\n",
       "      <td>379.000000</td>\n",
       "      <td>379.000000</td>\n",
       "      <td>379.000000</td>\n",
       "      <td>379.000000</td>\n",
       "      <td>379.000000</td>\n",
       "      <td>379.0</td>\n",
       "    </tr>\n",
       "    <tr>\n",
       "      <th>mean</th>\n",
       "      <td>282.496042</td>\n",
       "      <td>7.630607</td>\n",
       "      <td>2014.538259</td>\n",
       "      <td>27.549103</td>\n",
       "      <td>66.777916</td>\n",
       "      <td>0.0</td>\n",
       "    </tr>\n",
       "    <tr>\n",
       "      <th>std</th>\n",
       "      <td>134.716484</td>\n",
       "      <td>3.121137</td>\n",
       "      <td>0.499193</td>\n",
       "      <td>3.729992</td>\n",
       "      <td>6.237840</td>\n",
       "      <td>0.0</td>\n",
       "    </tr>\n",
       "    <tr>\n",
       "      <th>min</th>\n",
       "      <td>14.000000</td>\n",
       "      <td>1.000000</td>\n",
       "      <td>2014.000000</td>\n",
       "      <td>21.760000</td>\n",
       "      <td>56.740000</td>\n",
       "      <td>0.0</td>\n",
       "    </tr>\n",
       "    <tr>\n",
       "      <th>25%</th>\n",
       "      <td>170.500000</td>\n",
       "      <td>6.000000</td>\n",
       "      <td>2014.000000</td>\n",
       "      <td>25.000000</td>\n",
       "      <td>62.460000</td>\n",
       "      <td>0.0</td>\n",
       "    </tr>\n",
       "    <tr>\n",
       "      <th>50%</th>\n",
       "      <td>295.000000</td>\n",
       "      <td>8.000000</td>\n",
       "      <td>2015.000000</td>\n",
       "      <td>26.930000</td>\n",
       "      <td>64.540000</td>\n",
       "      <td>0.0</td>\n",
       "    </tr>\n",
       "    <tr>\n",
       "      <th>75%</th>\n",
       "      <td>403.500000</td>\n",
       "      <td>10.000000</td>\n",
       "      <td>2015.000000</td>\n",
       "      <td>29.585000</td>\n",
       "      <td>71.710000</td>\n",
       "      <td>0.0</td>\n",
       "    </tr>\n",
       "    <tr>\n",
       "      <th>max</th>\n",
       "      <td>498.000000</td>\n",
       "      <td>12.000000</td>\n",
       "      <td>2015.000000</td>\n",
       "      <td>36.830000</td>\n",
       "      <td>79.860000</td>\n",
       "      <td>0.0</td>\n",
       "    </tr>\n",
       "  </tbody>\n",
       "</table>\n",
       "</div>"
      ],
      "text/plain": [
       "       Observação         Mes     AnoSafra  PreçosMilho  PreçosSoja      Y\n",
       "count  379.000000  379.000000   379.000000   379.000000  379.000000  379.0\n",
       "mean   282.496042    7.630607  2014.538259    27.549103   66.777916    0.0\n",
       "std    134.716484    3.121137     0.499193     3.729992    6.237840    0.0\n",
       "min     14.000000    1.000000  2014.000000    21.760000   56.740000    0.0\n",
       "25%    170.500000    6.000000  2014.000000    25.000000   62.460000    0.0\n",
       "50%    295.000000    8.000000  2015.000000    26.930000   64.540000    0.0\n",
       "75%    403.500000   10.000000  2015.000000    29.585000   71.710000    0.0\n",
       "max    498.000000   12.000000  2015.000000    36.830000   79.860000    0.0"
      ]
     },
     "execution_count": 26,
     "metadata": {},
     "output_type": "execute_result"
    }
   ],
   "source": [
    "plantio.describe()"
   ]
  },
  {
   "cell_type": "code",
   "execution_count": 27,
   "metadata": {},
   "outputs": [
    {
     "data": {
      "text/html": [
       "<div>\n",
       "<style scoped>\n",
       "    .dataframe tbody tr th:only-of-type {\n",
       "        vertical-align: middle;\n",
       "    }\n",
       "\n",
       "    .dataframe tbody tr th {\n",
       "        vertical-align: top;\n",
       "    }\n",
       "\n",
       "    .dataframe thead th {\n",
       "        text-align: right;\n",
       "    }\n",
       "</style>\n",
       "<table border=\"1\" class=\"dataframe\">\n",
       "  <thead>\n",
       "    <tr style=\"text-align: right;\">\n",
       "      <th></th>\n",
       "      <th>Observação</th>\n",
       "      <th>Mes</th>\n",
       "      <th>AnoSafra</th>\n",
       "      <th>PreçosMilho</th>\n",
       "      <th>PreçosSoja</th>\n",
       "      <th>Y</th>\n",
       "    </tr>\n",
       "  </thead>\n",
       "  <tbody>\n",
       "    <tr>\n",
       "      <th>count</th>\n",
       "      <td>119.000000</td>\n",
       "      <td>119.000000</td>\n",
       "      <td>119.000000</td>\n",
       "      <td>119.000000</td>\n",
       "      <td>119.000000</td>\n",
       "      <td>119.0</td>\n",
       "    </tr>\n",
       "    <tr>\n",
       "      <th>mean</th>\n",
       "      <td>144.411765</td>\n",
       "      <td>3.016807</td>\n",
       "      <td>2014.369748</td>\n",
       "      <td>29.248067</td>\n",
       "      <td>65.607647</td>\n",
       "      <td>1.0</td>\n",
       "    </tr>\n",
       "    <tr>\n",
       "      <th>std</th>\n",
       "      <td>120.210508</td>\n",
       "      <td>1.449624</td>\n",
       "      <td>0.484778</td>\n",
       "      <td>2.588414</td>\n",
       "      <td>4.024500</td>\n",
       "      <td>0.0</td>\n",
       "    </tr>\n",
       "    <tr>\n",
       "      <th>min</th>\n",
       "      <td>1.000000</td>\n",
       "      <td>1.000000</td>\n",
       "      <td>2014.000000</td>\n",
       "      <td>24.970000</td>\n",
       "      <td>58.170000</td>\n",
       "      <td>1.0</td>\n",
       "    </tr>\n",
       "    <tr>\n",
       "      <th>25%</th>\n",
       "      <td>48.500000</td>\n",
       "      <td>2.000000</td>\n",
       "      <td>2014.000000</td>\n",
       "      <td>27.310000</td>\n",
       "      <td>61.400000</td>\n",
       "      <td>1.0</td>\n",
       "    </tr>\n",
       "    <tr>\n",
       "      <th>50%</th>\n",
       "      <td>87.000000</td>\n",
       "      <td>3.000000</td>\n",
       "      <td>2014.000000</td>\n",
       "      <td>28.720000</td>\n",
       "      <td>67.530000</td>\n",
       "      <td>1.0</td>\n",
       "    </tr>\n",
       "    <tr>\n",
       "      <th>75%</th>\n",
       "      <td>276.500000</td>\n",
       "      <td>4.000000</td>\n",
       "      <td>2015.000000</td>\n",
       "      <td>31.330000</td>\n",
       "      <td>68.650000</td>\n",
       "      <td>1.0</td>\n",
       "    </tr>\n",
       "    <tr>\n",
       "      <th>max</th>\n",
       "      <td>348.000000</td>\n",
       "      <td>5.000000</td>\n",
       "      <td>2015.000000</td>\n",
       "      <td>34.160000</td>\n",
       "      <td>72.180000</td>\n",
       "      <td>1.0</td>\n",
       "    </tr>\n",
       "  </tbody>\n",
       "</table>\n",
       "</div>"
      ],
      "text/plain": [
       "       Observação         Mes     AnoSafra  PreçosMilho  PreçosSoja      Y\n",
       "count  119.000000  119.000000   119.000000   119.000000  119.000000  119.0\n",
       "mean   144.411765    3.016807  2014.369748    29.248067   65.607647    1.0\n",
       "std    120.210508    1.449624     0.484778     2.588414    4.024500    0.0\n",
       "min      1.000000    1.000000  2014.000000    24.970000   58.170000    1.0\n",
       "25%     48.500000    2.000000  2014.000000    27.310000   61.400000    1.0\n",
       "50%     87.000000    3.000000  2014.000000    28.720000   67.530000    1.0\n",
       "75%    276.500000    4.000000  2015.000000    31.330000   68.650000    1.0\n",
       "max    348.000000    5.000000  2015.000000    34.160000   72.180000    1.0"
      ]
     },
     "execution_count": 27,
     "metadata": {},
     "output_type": "execute_result"
    }
   ],
   "source": [
    "colheita.describe()"
   ]
  },
  {
   "cell_type": "markdown",
   "metadata": {},
   "source": [
    "### Temos, portanto, 379 observações de plantio e 119 observações de colheita\n",
    "\n",
    "### Para melhorar os resultados do classificador, irei utilizar Oversampling nos dados de treino\n",
    "- Apesar de usar a coluna mês para criar o algorítmo real, ela será retirada na hora de fazer o algorítmo de ML para analisar o comportamento sem a coluna"
   ]
  },
  {
   "cell_type": "code",
   "execution_count": 28,
   "metadata": {},
   "outputs": [],
   "source": [
    "X = data.copy()"
   ]
  },
  {
   "cell_type": "code",
   "execution_count": 29,
   "metadata": {},
   "outputs": [],
   "source": [
    "X.pop('Observação')\n",
    "X.pop('Data')\n",
    "X.pop('PreçosMilho')\n",
    "X.pop('Mes')\n",
    "X.pop('Y')\n",
    "y = data['Y']"
   ]
  },
  {
   "cell_type": "code",
   "execution_count": 30,
   "metadata": {},
   "outputs": [],
   "source": [
    "X_train, X_test, y_train, y_test = train_test_split(X, y, test_size = .3, random_state = 77)"
   ]
  },
  {
   "cell_type": "code",
   "execution_count": 31,
   "metadata": {},
   "outputs": [],
   "source": [
    "sm = SMOTE(random_state=77, sampling_strategy = 1.0)\n",
    "X_train_res, y_train_res = sm.fit_sample(X_train, y_train)"
   ]
  },
  {
   "cell_type": "markdown",
   "metadata": {},
   "source": [
    "# Devido a dinâmica da função, com algoritmo do estilo função if e else, irei utilizar o algorítmo Random Forest.\n",
    "# Ambos algorítmos são capazes de criar cortes nos eixos X e Y da função resposta."
   ]
  },
  {
   "cell_type": "code",
   "execution_count": 32,
   "metadata": {},
   "outputs": [
    {
     "data": {
      "text/plain": [
       "RandomForestClassifier(n_estimators=25, random_state=77)"
      ]
     },
     "execution_count": 32,
     "metadata": {},
     "output_type": "execute_result"
    }
   ],
   "source": [
    "clf_rf = RandomForestClassifier(n_estimators=25, random_state=77)\n",
    "clf_rf.fit(X_train_res, y_train_res)"
   ]
  },
  {
   "cell_type": "code",
   "execution_count": 33,
   "metadata": {},
   "outputs": [],
   "source": [
    "y_res = clf_rf.predict(X_test)"
   ]
  },
  {
   "cell_type": "code",
   "execution_count": 34,
   "metadata": {},
   "outputs": [
    {
     "name": "stdout",
     "output_type": "stream",
     "text": [
      "Predicted    0   1  All\n",
      "Real                   \n",
      "0          108   4  112\n",
      "1            3  35   38\n",
      "All        111  39  150\n"
     ]
    }
   ],
   "source": [
    "print(pd.crosstab(y_test, y_res, rownames=['Real'], colnames=['Predicted'], margins=True))"
   ]
  },
  {
   "cell_type": "code",
   "execution_count": 35,
   "metadata": {},
   "outputs": [
    {
     "data": {
      "text/plain": [
       "0.9533333333333334"
      ]
     },
     "execution_count": 35,
     "metadata": {},
     "output_type": "execute_result"
    }
   ],
   "source": [
    "acc = accuracy_score(y_test, y_res)\n",
    "acc"
   ]
  },
  {
   "cell_type": "code",
   "execution_count": 36,
   "metadata": {},
   "outputs": [
    {
     "data": {
      "text/plain": [
       "0.8974358974358975"
      ]
     },
     "execution_count": 36,
     "metadata": {},
     "output_type": "execute_result"
    }
   ],
   "source": [
    "prec = precision_score(y_test, y_res)\n",
    "prec"
   ]
  },
  {
   "cell_type": "code",
   "execution_count": 37,
   "metadata": {},
   "outputs": [
    {
     "data": {
      "text/plain": [
       "0.972972972972973"
      ]
     },
     "execution_count": 37,
     "metadata": {},
     "output_type": "execute_result"
    }
   ],
   "source": [
    "especificidade = precision_score(y_test, y_res, pos_label = 0)\n",
    "especificidade"
   ]
  },
  {
   "cell_type": "code",
   "execution_count": 38,
   "metadata": {},
   "outputs": [
    {
     "data": {
      "text/plain": [
       "0.9210526315789473"
      ]
     },
     "execution_count": 38,
     "metadata": {},
     "output_type": "execute_result"
    }
   ],
   "source": [
    "recall = recall_score(y_test, y_res)\n",
    "recall"
   ]
  },
  {
   "cell_type": "code",
   "execution_count": 39,
   "metadata": {},
   "outputs": [
    {
     "data": {
      "text/plain": [
       "0.9090909090909091"
      ]
     },
     "execution_count": 39,
     "metadata": {},
     "output_type": "execute_result"
    }
   ],
   "source": [
    "f1 = f1_score(y_test, y_res)\n",
    "f1"
   ]
  },
  {
   "cell_type": "code",
   "execution_count": 40,
   "metadata": {},
   "outputs": [
    {
     "data": {
      "text/plain": [
       "'              precision    recall  f1-score   support\\n\\n           0       0.97      0.96      0.97       112\\n           1       0.90      0.92      0.91        38\\n\\n    accuracy                           0.95       150\\n   macro avg       0.94      0.94      0.94       150\\nweighted avg       0.95      0.95      0.95       150\\n'"
      ]
     },
     "execution_count": 40,
     "metadata": {},
     "output_type": "execute_result"
    }
   ],
   "source": [
    "classification_report(y_test, y_res)"
   ]
  },
  {
   "cell_type": "code",
   "execution_count": 41,
   "metadata": {},
   "outputs": [
    {
     "data": {
      "text/plain": [
       "0.9426691729323309"
      ]
     },
     "execution_count": 41,
     "metadata": {},
     "output_type": "execute_result"
    }
   ],
   "source": [
    "auc = roc_auc_score(y_test, y_res)\n",
    "auc"
   ]
  },
  {
   "cell_type": "code",
   "execution_count": 42,
   "metadata": {},
   "outputs": [],
   "source": [
    "y_prob = clf_rf.predict_proba(X_test)"
   ]
  },
  {
   "cell_type": "code",
   "execution_count": 43,
   "metadata": {
    "scrolled": false
   },
   "outputs": [
    {
     "data": {
      "text/plain": [
       "array([[0.   , 1.   ],\n",
       "       [1.   , 0.   ],\n",
       "       [1.   , 0.   ],\n",
       "       [0.   , 1.   ],\n",
       "       [1.   , 0.   ],\n",
       "       [1.   , 0.   ],\n",
       "       [1.   , 0.   ],\n",
       "       [1.   , 0.   ],\n",
       "       [1.   , 0.   ],\n",
       "       [1.   , 0.   ],\n",
       "       [1.   , 0.   ],\n",
       "       [1.   , 0.   ],\n",
       "       [1.   , 0.   ],\n",
       "       [1.   , 0.   ],\n",
       "       [1.   , 0.   ],\n",
       "       [0.48 , 0.52 ],\n",
       "       [0.   , 1.   ],\n",
       "       [0.04 , 0.96 ],\n",
       "       [0.   , 1.   ],\n",
       "       [1.   , 0.   ],\n",
       "       [1.   , 0.   ],\n",
       "       [1.   , 0.   ],\n",
       "       [1.   , 0.   ],\n",
       "       [1.   , 0.   ],\n",
       "       [0.   , 1.   ],\n",
       "       [0.   , 1.   ],\n",
       "       [0.622, 0.378],\n",
       "       [1.   , 0.   ],\n",
       "       [1.   , 0.   ],\n",
       "       [1.   , 0.   ],\n",
       "       [1.   , 0.   ],\n",
       "       [0.   , 1.   ],\n",
       "       [1.   , 0.   ],\n",
       "       [1.   , 0.   ],\n",
       "       [1.   , 0.   ],\n",
       "       [1.   , 0.   ],\n",
       "       [1.   , 0.   ],\n",
       "       [0.96 , 0.04 ],\n",
       "       [1.   , 0.   ],\n",
       "       [1.   , 0.   ],\n",
       "       [1.   , 0.   ],\n",
       "       [1.   , 0.   ],\n",
       "       [0.96 , 0.04 ],\n",
       "       [0.28 , 0.72 ],\n",
       "       [1.   , 0.   ],\n",
       "       [0.   , 1.   ],\n",
       "       [1.   , 0.   ],\n",
       "       [1.   , 0.   ],\n",
       "       [0.   , 1.   ],\n",
       "       [1.   , 0.   ],\n",
       "       [0.   , 1.   ],\n",
       "       [1.   , 0.   ],\n",
       "       [1.   , 0.   ],\n",
       "       [0.04 , 0.96 ],\n",
       "       [1.   , 0.   ],\n",
       "       [1.   , 0.   ],\n",
       "       [0.   , 1.   ],\n",
       "       [0.76 , 0.24 ],\n",
       "       [1.   , 0.   ],\n",
       "       [0.28 , 0.72 ],\n",
       "       [0.   , 1.   ],\n",
       "       [1.   , 0.   ],\n",
       "       [0.   , 1.   ],\n",
       "       [0.96 , 0.04 ],\n",
       "       [0.96 , 0.04 ],\n",
       "       [1.   , 0.   ],\n",
       "       [1.   , 0.   ],\n",
       "       [1.   , 0.   ],\n",
       "       [0.   , 1.   ],\n",
       "       [1.   , 0.   ],\n",
       "       [0.   , 1.   ],\n",
       "       [1.   , 0.   ],\n",
       "       [1.   , 0.   ],\n",
       "       [1.   , 0.   ],\n",
       "       [1.   , 0.   ],\n",
       "       [1.   , 0.   ],\n",
       "       [1.   , 0.   ],\n",
       "       [1.   , 0.   ],\n",
       "       [1.   , 0.   ],\n",
       "       [1.   , 0.   ],\n",
       "       [1.   , 0.   ],\n",
       "       [1.   , 0.   ],\n",
       "       [1.   , 0.   ],\n",
       "       [1.   , 0.   ],\n",
       "       [1.   , 0.   ],\n",
       "       [1.   , 0.   ],\n",
       "       [0.24 , 0.76 ],\n",
       "       [0.76 , 0.24 ],\n",
       "       [1.   , 0.   ],\n",
       "       [1.   , 0.   ],\n",
       "       [1.   , 0.   ],\n",
       "       [1.   , 0.   ],\n",
       "       [0.   , 1.   ],\n",
       "       [1.   , 0.   ],\n",
       "       [1.   , 0.   ],\n",
       "       [1.   , 0.   ],\n",
       "       [1.   , 0.   ],\n",
       "       [0.   , 1.   ],\n",
       "       [1.   , 0.   ],\n",
       "       [1.   , 0.   ],\n",
       "       [0.   , 1.   ],\n",
       "       [0.24 , 0.76 ],\n",
       "       [0.   , 1.   ],\n",
       "       [0.04 , 0.96 ],\n",
       "       [1.   , 0.   ],\n",
       "       [0.   , 1.   ],\n",
       "       [1.   , 0.   ],\n",
       "       [1.   , 0.   ],\n",
       "       [1.   , 0.   ],\n",
       "       [1.   , 0.   ],\n",
       "       [1.   , 0.   ],\n",
       "       [1.   , 0.   ],\n",
       "       [1.   , 0.   ],\n",
       "       [0.   , 1.   ],\n",
       "       [1.   , 0.   ],\n",
       "       [1.   , 0.   ],\n",
       "       [1.   , 0.   ],\n",
       "       [1.   , 0.   ],\n",
       "       [1.   , 0.   ],\n",
       "       [1.   , 0.   ],\n",
       "       [1.   , 0.   ],\n",
       "       [1.   , 0.   ],\n",
       "       [0.   , 1.   ],\n",
       "       [0.96 , 0.04 ],\n",
       "       [1.   , 0.   ],\n",
       "       [1.   , 0.   ],\n",
       "       [0.76 , 0.24 ],\n",
       "       [0.   , 1.   ],\n",
       "       [1.   , 0.   ],\n",
       "       [0.96 , 0.04 ],\n",
       "       [1.   , 0.   ],\n",
       "       [0.   , 1.   ],\n",
       "       [0.24 , 0.76 ],\n",
       "       [0.   , 1.   ],\n",
       "       [1.   , 0.   ],\n",
       "       [1.   , 0.   ],\n",
       "       [1.   , 0.   ],\n",
       "       [0.   , 1.   ],\n",
       "       [1.   , 0.   ],\n",
       "       [1.   , 0.   ],\n",
       "       [0.04 , 0.96 ],\n",
       "       [1.   , 0.   ],\n",
       "       [0.   , 1.   ],\n",
       "       [0.4  , 0.6  ],\n",
       "       [0.   , 1.   ],\n",
       "       [1.   , 0.   ],\n",
       "       [1.   , 0.   ],\n",
       "       [1.   , 0.   ],\n",
       "       [0.96 , 0.04 ],\n",
       "       [1.   , 0.   ]])"
      ]
     },
     "execution_count": 43,
     "metadata": {},
     "output_type": "execute_result"
    }
   ],
   "source": [
    "# Analisar os valores que irão compor a curva ROC\n",
    "\n",
    "y_prob"
   ]
  },
  {
   "cell_type": "code",
   "execution_count": 44,
   "metadata": {},
   "outputs": [],
   "source": [
    "probs = y_prob[:,1]\n",
    "rfp, rvp, lim = roc_curve(y_test, probs)"
   ]
  },
  {
   "cell_type": "code",
   "execution_count": 45,
   "metadata": {},
   "outputs": [],
   "source": [
    "probs = clf_rf.predict_proba(X_test)\n",
    "preds = probs[:,1]\n",
    "fpr, tpr, threshold = metrics.roc_curve(y_test, preds)\n",
    "roc_auc = metrics.auc(fpr, tpr)"
   ]
  },
  {
   "cell_type": "code",
   "execution_count": 46,
   "metadata": {},
   "outputs": [],
   "source": [
    "plt.title('Receiver Operating Characteristic')\n",
    "plt.plot(fpr, tpr, 'r', label = 'AUC = %0.2f' % auc)\n",
    "plt.legend(loc = 'lower right')\n",
    "plt.plot([0, 1], [0, 1],'g--')\n",
    "plt.xlim([0, 1])\n",
    "plt.ylim([0, 1])\n",
    "plt.ylabel('True Positive Rate')\n",
    "plt.xlabel('False Positive Rate')\n",
    "plt.show()"
   ]
  }
 ],
 "metadata": {
  "kernelspec": {
   "display_name": "Python 3",
   "language": "python",
   "name": "python3"
  },
  "language_info": {
   "codemirror_mode": {
    "name": "ipython",
    "version": 3
   },
   "file_extension": ".py",
   "mimetype": "text/x-python",
   "name": "python",
   "nbconvert_exporter": "python",
   "pygments_lexer": "ipython3",
   "version": "3.7.6"
  }
 },
 "nbformat": 4,
 "nbformat_minor": 4
}
